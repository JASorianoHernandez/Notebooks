{
 "cells": [
  {
   "cell_type": "code",
   "execution_count": 1,
   "id": "78263886",
   "metadata": {},
   "outputs": [
    {
     "name": "stdout",
     "output_type": "stream",
     "text": [
      "Requirement already satisfied: pyspark in c:\\programdata\\anaconda3\\lib\\site-packages (3.2.1)\n",
      "Requirement already satisfied: py4j==0.10.9.3 in c:\\programdata\\anaconda3\\lib\\site-packages (from pyspark) (0.10.9.3)\n"
     ]
    }
   ],
   "source": [
    "!pip install pyspark"
   ]
  },
  {
   "cell_type": "code",
   "execution_count": 2,
   "id": "7ef1cf1a",
   "metadata": {},
   "outputs": [],
   "source": [
    "import pyspark"
   ]
  },
  {
   "cell_type": "code",
   "execution_count": 3,
   "id": "88e3c4bd",
   "metadata": {},
   "outputs": [
    {
     "data": {
      "text/html": [
       "<div>\n",
       "<style scoped>\n",
       "    .dataframe tbody tr th:only-of-type {\n",
       "        vertical-align: middle;\n",
       "    }\n",
       "\n",
       "    .dataframe tbody tr th {\n",
       "        vertical-align: top;\n",
       "    }\n",
       "\n",
       "    .dataframe thead th {\n",
       "        text-align: right;\n",
       "    }\n",
       "</style>\n",
       "<table border=\"1\" class=\"dataframe\">\n",
       "  <thead>\n",
       "    <tr style=\"text-align: right;\">\n",
       "      <th></th>\n",
       "      <th>21A_Pr</th>\n",
       "      <th>21A_Es</th>\n",
       "      <th>21A_Ma</th>\n",
       "      <th>21A_Es_Di</th>\n",
       "    </tr>\n",
       "  </thead>\n",
       "  <tbody>\n",
       "    <tr>\n",
       "      <th>0</th>\n",
       "      <td>1.0</td>\n",
       "      <td>0.500000</td>\n",
       "      <td>HMate</td>\n",
       "      <td>4</td>\n",
       "    </tr>\n",
       "    <tr>\n",
       "      <th>1</th>\n",
       "      <td>2.0</td>\n",
       "      <td>0.226190</td>\n",
       "      <td>HMate</td>\n",
       "      <td>5</td>\n",
       "    </tr>\n",
       "    <tr>\n",
       "      <th>2</th>\n",
       "      <td>3.0</td>\n",
       "      <td>0.273810</td>\n",
       "      <td>HMate</td>\n",
       "      <td>5</td>\n",
       "    </tr>\n",
       "    <tr>\n",
       "      <th>3</th>\n",
       "      <td>4.0</td>\n",
       "      <td>0.297619</td>\n",
       "      <td>HMate</td>\n",
       "      <td>5</td>\n",
       "    </tr>\n",
       "    <tr>\n",
       "      <th>4</th>\n",
       "      <td>5.0</td>\n",
       "      <td>0.678571</td>\n",
       "      <td>HMate</td>\n",
       "      <td>3</td>\n",
       "    </tr>\n",
       "    <tr>\n",
       "      <th>...</th>\n",
       "      <td>...</td>\n",
       "      <td>...</td>\n",
       "      <td>...</td>\n",
       "      <td>...</td>\n",
       "    </tr>\n",
       "    <tr>\n",
       "      <th>126</th>\n",
       "      <td>127.0</td>\n",
       "      <td>0.238095</td>\n",
       "      <td>Qui</td>\n",
       "      <td>5</td>\n",
       "    </tr>\n",
       "    <tr>\n",
       "      <th>127</th>\n",
       "      <td>128.0</td>\n",
       "      <td>0.309524</td>\n",
       "      <td>Qui</td>\n",
       "      <td>5</td>\n",
       "    </tr>\n",
       "    <tr>\n",
       "      <th>128</th>\n",
       "      <td>129.0</td>\n",
       "      <td>NaN</td>\n",
       "      <td>Light</td>\n",
       "      <td>4</td>\n",
       "    </tr>\n",
       "    <tr>\n",
       "      <th>129</th>\n",
       "      <td>NaN</td>\n",
       "      <td>0.345320</td>\n",
       "      <td>Light</td>\n",
       "      <td>5</td>\n",
       "    </tr>\n",
       "    <tr>\n",
       "      <th>130</th>\n",
       "      <td>131.0</td>\n",
       "      <td>0.999990</td>\n",
       "      <td>NaN</td>\n",
       "      <td>1</td>\n",
       "    </tr>\n",
       "  </tbody>\n",
       "</table>\n",
       "<p>131 rows × 4 columns</p>\n",
       "</div>"
      ],
      "text/plain": [
       "     21A_Pr    21A_Es 21A_Ma  21A_Es_Di\n",
       "0       1.0  0.500000  HMate          4\n",
       "1       2.0  0.226190  HMate          5\n",
       "2       3.0  0.273810  HMate          5\n",
       "3       4.0  0.297619  HMate          5\n",
       "4       5.0  0.678571  HMate          3\n",
       "..      ...       ...    ...        ...\n",
       "126   127.0  0.238095    Qui          5\n",
       "127   128.0  0.309524    Qui          5\n",
       "128   129.0       NaN  Light          4\n",
       "129     NaN  0.345320  Light          5\n",
       "130   131.0  0.999990    NaN          1\n",
       "\n",
       "[131 rows x 4 columns]"
      ]
     },
     "execution_count": 3,
     "metadata": {},
     "output_type": "execute_result"
    }
   ],
   "source": [
    "import pandas as pd\n",
    "pd.read_csv('pruebaDs.csv')"
   ]
  },
  {
   "cell_type": "code",
   "execution_count": 4,
   "id": "7e41b4fa",
   "metadata": {},
   "outputs": [],
   "source": [
    "from pyspark.sql import SparkSession"
   ]
  },
  {
   "cell_type": "code",
   "execution_count": 5,
   "id": "6ab853c8",
   "metadata": {},
   "outputs": [],
   "source": [
    "spark=SparkSession.builder.appName('pruebaPyspark').getOrCreate()"
   ]
  },
  {
   "cell_type": "code",
   "execution_count": 6,
   "id": "5629be6f",
   "metadata": {},
   "outputs": [
    {
     "data": {
      "text/html": [
       "\n",
       "            <div>\n",
       "                <p><b>SparkSession - in-memory</b></p>\n",
       "                \n",
       "        <div>\n",
       "            <p><b>SparkContext</b></p>\n",
       "\n",
       "            <p><a href=\"http://DESKTOP-PSQA9QR:4040\">Spark UI</a></p>\n",
       "\n",
       "            <dl>\n",
       "              <dt>Version</dt>\n",
       "                <dd><code>v3.2.1</code></dd>\n",
       "              <dt>Master</dt>\n",
       "                <dd><code>local[*]</code></dd>\n",
       "              <dt>AppName</dt>\n",
       "                <dd><code>pruebaPyspark</code></dd>\n",
       "            </dl>\n",
       "        </div>\n",
       "        \n",
       "            </div>\n",
       "        "
      ],
      "text/plain": [
       "<pyspark.sql.session.SparkSession at 0x2542c2dcbe0>"
      ]
     },
     "execution_count": 6,
     "metadata": {},
     "output_type": "execute_result"
    }
   ],
   "source": [
    "spark"
   ]
  },
  {
   "cell_type": "code",
   "execution_count": 7,
   "id": "fd0591b8",
   "metadata": {},
   "outputs": [],
   "source": [
    "df_pyspark=spark.read.csv('pruebaDs.csv')"
   ]
  },
  {
   "cell_type": "code",
   "execution_count": 8,
   "id": "1c293538",
   "metadata": {},
   "outputs": [
    {
     "name": "stdout",
     "output_type": "stream",
     "text": [
      "+------+-----------+-------+---------+\n",
      "|   _c0|        _c1|    _c2|      _c3|\n",
      "+------+-----------+-------+---------+\n",
      "|21A_Pr|     21A_Es| 21A_Ma|21A_Es_Di|\n",
      "|     1|        0.5|  HMate|        4|\n",
      "|     2|0.226190476|  HMate|        5|\n",
      "|     3|0.273809524|  HMate|        5|\n",
      "|     4|0.297619048|  HMate|        5|\n",
      "|     5|0.678571429|  HMate|        3|\n",
      "|     6| 0.69047619|  HMate|        3|\n",
      "|     7|0.607142857|  HMate|        3|\n",
      "|     8|0.285714286|  HMate|        5|\n",
      "|     9| 0.44047619|  HMate|        4|\n",
      "|    10|0.345238095|  HMate|        4|\n",
      "|    11|0.178571429|  HMate|        5|\n",
      "|    12|0.785714286|  HMate|        2|\n",
      "|    13|0.404761905|  HMate|        4|\n",
      "|    14|0.476190476|  HMate|        4|\n",
      "|    15|0.333333333|  HMate|        5|\n",
      "|    16|0.666666667|  HMate|        3|\n",
      "|    17|0.380952381|HVerbal|        4|\n",
      "|    18|0.797619048|HVerbal|        2|\n",
      "|    19|0.535714286|HVerbal|        3|\n",
      "+------+-----------+-------+---------+\n",
      "only showing top 20 rows\n",
      "\n"
     ]
    }
   ],
   "source": [
    "df_pyspark.show()"
   ]
  },
  {
   "cell_type": "code",
   "execution_count": 9,
   "id": "852ff17b",
   "metadata": {},
   "outputs": [],
   "source": [
    "df_pyspark=spark.read.option('header','true').csv('pruebaDs.csv')"
   ]
  },
  {
   "cell_type": "code",
   "execution_count": 10,
   "id": "f7d3a6f2",
   "metadata": {},
   "outputs": [
    {
     "data": {
      "text/plain": [
       "pyspark.sql.dataframe.DataFrame"
      ]
     },
     "execution_count": 10,
     "metadata": {},
     "output_type": "execute_result"
    }
   ],
   "source": [
    "type(df_pyspark)"
   ]
  },
  {
   "cell_type": "code",
   "execution_count": 11,
   "id": "000fa7ef",
   "metadata": {},
   "outputs": [
    {
     "data": {
      "text/plain": [
       "[Row(21A_Pr='1', 21A_Es='0.5', 21A_Ma='HMate', 21A_Es_Di='4'),\n",
       " Row(21A_Pr='2', 21A_Es='0.226190476', 21A_Ma='HMate', 21A_Es_Di='5'),\n",
       " Row(21A_Pr='3', 21A_Es='0.273809524', 21A_Ma='HMate', 21A_Es_Di='5')]"
      ]
     },
     "execution_count": 11,
     "metadata": {},
     "output_type": "execute_result"
    }
   ],
   "source": [
    "df_pyspark.head(3)"
   ]
  },
  {
   "cell_type": "code",
   "execution_count": 12,
   "id": "5e0b2c13",
   "metadata": {},
   "outputs": [
    {
     "name": "stdout",
     "output_type": "stream",
     "text": [
      "root\n",
      " |-- 21A_Pr: string (nullable = true)\n",
      " |-- 21A_Es: string (nullable = true)\n",
      " |-- 21A_Ma: string (nullable = true)\n",
      " |-- 21A_Es_Di: string (nullable = true)\n",
      "\n"
     ]
    }
   ],
   "source": [
    "df_pyspark.printSchema()"
   ]
  },
  {
   "cell_type": "markdown",
   "id": "7cb99d49",
   "metadata": {},
   "source": [
    "## Parte 2"
   ]
  },
  {
   "cell_type": "code",
   "execution_count": 13,
   "id": "5be52251",
   "metadata": {},
   "outputs": [
    {
     "name": "stdout",
     "output_type": "stream",
     "text": [
      "+------+-----------+-------+---------+\n",
      "|21A_Pr|     21A_Es| 21A_Ma|21A_Es_Di|\n",
      "+------+-----------+-------+---------+\n",
      "|     1|        0.5|  HMate|        4|\n",
      "|     2|0.226190476|  HMate|        5|\n",
      "|     3|0.273809524|  HMate|        5|\n",
      "|     4|0.297619048|  HMate|        5|\n",
      "|     5|0.678571429|  HMate|        3|\n",
      "|     6| 0.69047619|  HMate|        3|\n",
      "|     7|0.607142857|  HMate|        3|\n",
      "|     8|0.285714286|  HMate|        5|\n",
      "|     9| 0.44047619|  HMate|        4|\n",
      "|    10|0.345238095|  HMate|        4|\n",
      "|    11|0.178571429|  HMate|        5|\n",
      "|    12|0.785714286|  HMate|        2|\n",
      "|    13|0.404761905|  HMate|        4|\n",
      "|    14|0.476190476|  HMate|        4|\n",
      "|    15|0.333333333|  HMate|        5|\n",
      "|    16|0.666666667|  HMate|        3|\n",
      "|    17|0.380952381|HVerbal|        4|\n",
      "|    18|0.797619048|HVerbal|        2|\n",
      "|    19|0.535714286|HVerbal|        3|\n",
      "|    20|0.416666667|HVerbal|        4|\n",
      "+------+-----------+-------+---------+\n",
      "only showing top 20 rows\n",
      "\n"
     ]
    }
   ],
   "source": [
    "## leyendo el archivo\n",
    "##spark.read.option('header','true').csv('pruebaDs.csv')\n",
    "\n",
    "## inferir el tipo de dato\n",
    "df_pyspark=spark.read.option('header','true').csv('pruebaDs.csv', inferSchema=True)\n",
    "df_pyspark.show()"
   ]
  },
  {
   "cell_type": "code",
   "execution_count": 14,
   "id": "6d8e89c1",
   "metadata": {},
   "outputs": [
    {
     "name": "stdout",
     "output_type": "stream",
     "text": [
      "root\n",
      " |-- 21A_Pr: integer (nullable = true)\n",
      " |-- 21A_Es: double (nullable = true)\n",
      " |-- 21A_Ma: string (nullable = true)\n",
      " |-- 21A_Es_Di: integer (nullable = true)\n",
      "\n"
     ]
    }
   ],
   "source": [
    "#### check the schema, o sea los tipos\n",
    "df_pyspark.printSchema()"
   ]
  },
  {
   "cell_type": "code",
   "execution_count": 15,
   "id": "d64f1815",
   "metadata": {},
   "outputs": [
    {
     "data": {
      "text/plain": [
       "pyspark.sql.dataframe.DataFrame"
      ]
     },
     "execution_count": 15,
     "metadata": {},
     "output_type": "execute_result"
    }
   ],
   "source": [
    "type(df_pyspark)"
   ]
  },
  {
   "cell_type": "code",
   "execution_count": 16,
   "id": "f889e1d4",
   "metadata": {},
   "outputs": [
    {
     "data": {
      "text/plain": [
       "[Row(21A_Pr=1, 21A_Es=0.5, 21A_Ma='HMate', 21A_Es_Di=4),\n",
       " Row(21A_Pr=2, 21A_Es=0.226190476, 21A_Ma='HMate', 21A_Es_Di=5),\n",
       " Row(21A_Pr=3, 21A_Es=0.273809524, 21A_Ma='HMate', 21A_Es_Di=5)]"
      ]
     },
     "execution_count": 16,
     "metadata": {},
     "output_type": "execute_result"
    }
   ],
   "source": [
    "df_pyspark.head(3)"
   ]
  },
  {
   "cell_type": "code",
   "execution_count": 17,
   "id": "b4daf3e3",
   "metadata": {},
   "outputs": [
    {
     "name": "stdout",
     "output_type": "stream",
     "text": [
      "+-----------+-------+\n",
      "|     21a_Es| 21A_Ma|\n",
      "+-----------+-------+\n",
      "|        0.5|  HMate|\n",
      "|0.226190476|  HMate|\n",
      "|0.273809524|  HMate|\n",
      "|0.297619048|  HMate|\n",
      "|0.678571429|  HMate|\n",
      "| 0.69047619|  HMate|\n",
      "|0.607142857|  HMate|\n",
      "|0.285714286|  HMate|\n",
      "| 0.44047619|  HMate|\n",
      "|0.345238095|  HMate|\n",
      "|0.178571429|  HMate|\n",
      "|0.785714286|  HMate|\n",
      "|0.404761905|  HMate|\n",
      "|0.476190476|  HMate|\n",
      "|0.333333333|  HMate|\n",
      "|0.666666667|  HMate|\n",
      "|0.380952381|HVerbal|\n",
      "|0.797619048|HVerbal|\n",
      "|0.535714286|HVerbal|\n",
      "|0.416666667|HVerbal|\n",
      "+-----------+-------+\n",
      "only showing top 20 rows\n",
      "\n"
     ]
    }
   ],
   "source": [
    "#selecionando solo la columna\n",
    "df_pyspark.select(['21a_Es','21A_Ma']).show()"
   ]
  },
  {
   "cell_type": "code",
   "execution_count": 18,
   "id": "71b77bba",
   "metadata": {},
   "outputs": [
    {
     "data": {
      "text/plain": [
       "[('21A_Pr', 'int'),\n",
       " ('21A_Es', 'double'),\n",
       " ('21A_Ma', 'string'),\n",
       " ('21A_Es_Di', 'int')]"
      ]
     },
     "execution_count": 18,
     "metadata": {},
     "output_type": "execute_result"
    }
   ],
   "source": [
    "#similar al schema\n",
    "df_pyspark.dtypes"
   ]
  },
  {
   "cell_type": "code",
   "execution_count": 19,
   "id": "5c2e5279",
   "metadata": {},
   "outputs": [
    {
     "name": "stdout",
     "output_type": "stream",
     "text": [
      "+-------+-----------------+-------------------+------+------------------+\n",
      "|summary|           21A_Pr|             21A_Es|21A_Ma|         21A_Es_Di|\n",
      "+-------+-----------------+-------------------+------+------------------+\n",
      "|  count|              130|                130|   130|               131|\n",
      "|   mean|65.50769230769231|0.46346209160769236|  null|3.8244274809160306|\n",
      "| stddev|37.68520079519756|0.20550314757279575|  null| 1.105795335288896|\n",
      "|    min|                1|        0.047619048|   Bio|                 1|\n",
      "|    max|              131|            0.99999|   Qui|                 5|\n",
      "+-------+-----------------+-------------------+------+------------------+\n",
      "\n"
     ]
    }
   ],
   "source": [
    "df_pyspark.describe().show()"
   ]
  },
  {
   "cell_type": "code",
   "execution_count": 20,
   "id": "00906be6",
   "metadata": {},
   "outputs": [],
   "source": [
    "#### Agreggar columnas\n",
    "df_pyspark=df_pyspark.withColumn('Nueva',df_pyspark['21A_Pr']+1)"
   ]
  },
  {
   "cell_type": "code",
   "execution_count": 21,
   "id": "d592f741",
   "metadata": {},
   "outputs": [],
   "source": [
    "### Eliminar\n",
    "df_pyspark=df_pyspark.drop('Nueva')"
   ]
  },
  {
   "cell_type": "code",
   "execution_count": 22,
   "id": "b3a4af04",
   "metadata": {},
   "outputs": [
    {
     "name": "stdout",
     "output_type": "stream",
     "text": [
      "+------+-----------+-------+---------+\n",
      "|21A_Pr|     21A_Es| 21A_Ma|21A_Es_Di|\n",
      "+------+-----------+-------+---------+\n",
      "|     1|        0.5|  HMate|        4|\n",
      "|     2|0.226190476|  HMate|        5|\n",
      "|     3|0.273809524|  HMate|        5|\n",
      "|     4|0.297619048|  HMate|        5|\n",
      "|     5|0.678571429|  HMate|        3|\n",
      "|     6| 0.69047619|  HMate|        3|\n",
      "|     7|0.607142857|  HMate|        3|\n",
      "|     8|0.285714286|  HMate|        5|\n",
      "|     9| 0.44047619|  HMate|        4|\n",
      "|    10|0.345238095|  HMate|        4|\n",
      "|    11|0.178571429|  HMate|        5|\n",
      "|    12|0.785714286|  HMate|        2|\n",
      "|    13|0.404761905|  HMate|        4|\n",
      "|    14|0.476190476|  HMate|        4|\n",
      "|    15|0.333333333|  HMate|        5|\n",
      "|    16|0.666666667|  HMate|        3|\n",
      "|    17|0.380952381|HVerbal|        4|\n",
      "|    18|0.797619048|HVerbal|        2|\n",
      "|    19|0.535714286|HVerbal|        3|\n",
      "|    20|0.416666667|HVerbal|        4|\n",
      "+------+-----------+-------+---------+\n",
      "only showing top 20 rows\n",
      "\n"
     ]
    }
   ],
   "source": [
    "df_pyspark.show()"
   ]
  },
  {
   "cell_type": "code",
   "execution_count": 23,
   "id": "044f33ac",
   "metadata": {},
   "outputs": [
    {
     "data": {
      "text/plain": [
       "DataFrame[21A_Pr: int, 21A_Es: double, Materia: string, 21A_Es_Di: int]"
      ]
     },
     "execution_count": 23,
     "metadata": {},
     "output_type": "execute_result"
    }
   ],
   "source": [
    "### Renombrar la columna\n",
    "df_pyspark.withColumnRenamed('21A_Ma','Materia')"
   ]
  },
  {
   "cell_type": "markdown",
   "id": "5965322e",
   "metadata": {},
   "source": [
    "## Parte 3\n",
    "### Tratando con valores nulos"
   ]
  },
  {
   "cell_type": "code",
   "execution_count": 24,
   "id": "25afc0cd",
   "metadata": {},
   "outputs": [
    {
     "name": "stdout",
     "output_type": "stream",
     "text": [
      "+------+-----------+------+---------+\n",
      "|21A_Pr|     21A_Es|21A_Ma|21A_Es_Di|\n",
      "+------+-----------+------+---------+\n",
      "|   129|       null| Light|        4|\n",
      "|  null|    0.34532| Water|        5|\n",
      "|   131|    0.99999|  null|        1|\n",
      "|   132|      0.865|  Dark|     null|\n",
      "|   133|       null|  Fire|     null|\n",
      "|     1|        0.5| HMate|        4|\n",
      "|     2|0.226190476| HMate|        5|\n",
      "|     3|0.273809524| HMate|        5|\n",
      "|     4|0.297619048| HMate|        5|\n",
      "|     5|0.678571429| HMate|        3|\n",
      "|     6| 0.69047619| HMate|        3|\n",
      "|     7|0.607142857| HMate|        3|\n",
      "|     8|0.285714286| HMate|        5|\n",
      "|     9| 0.44047619| HMate|        4|\n",
      "|    10|0.345238095| HMate|        4|\n",
      "|    11|0.178571429| HMate|        5|\n",
      "|    12|0.785714286| HMate|        2|\n",
      "|    13|0.404761905| HMate|        4|\n",
      "|    14|0.476190476| HMate|        4|\n",
      "|    15|0.333333333| HMate|        5|\n",
      "+------+-----------+------+---------+\n",
      "only showing top 20 rows\n",
      "\n"
     ]
    }
   ],
   "source": [
    "spark.read.csv('pds2.csv',header=True, inferSchema=True).show()\n",
    "df_pyspark=spark.read.csv('pds2.csv',header=True, inferSchema=True)\n"
   ]
  },
  {
   "cell_type": "code",
   "execution_count": 25,
   "id": "def02bb9",
   "metadata": {},
   "outputs": [
    {
     "name": "stdout",
     "output_type": "stream",
     "text": [
      "+------+-----------+-------+---------+\n",
      "|21A_Pr|     21A_Es| 21A_Ma|21A_Es_Di|\n",
      "+------+-----------+-------+---------+\n",
      "|     1|        0.5|  HMate|        4|\n",
      "|     2|0.226190476|  HMate|        5|\n",
      "|     3|0.273809524|  HMate|        5|\n",
      "|     4|0.297619048|  HMate|        5|\n",
      "|     5|0.678571429|  HMate|        3|\n",
      "|     6| 0.69047619|  HMate|        3|\n",
      "|     7|0.607142857|  HMate|        3|\n",
      "|     8|0.285714286|  HMate|        5|\n",
      "|     9| 0.44047619|  HMate|        4|\n",
      "|    10|0.345238095|  HMate|        4|\n",
      "|    11|0.178571429|  HMate|        5|\n",
      "|    12|0.785714286|  HMate|        2|\n",
      "|    13|0.404761905|  HMate|        4|\n",
      "|    14|0.476190476|  HMate|        4|\n",
      "|    15|0.333333333|  HMate|        5|\n",
      "|    16|0.666666667|  HMate|        3|\n",
      "|    17|0.380952381|HVerbal|        4|\n",
      "|    18|0.797619048|HVerbal|        2|\n",
      "|    19|0.535714286|HVerbal|        3|\n",
      "|    20|0.416666667|HVerbal|        4|\n",
      "+------+-----------+-------+---------+\n",
      "only showing top 20 rows\n",
      "\n"
     ]
    }
   ],
   "source": [
    "df_pyspark.na.drop(how='any').show()"
   ]
  },
  {
   "cell_type": "code",
   "execution_count": 26,
   "id": "da109083",
   "metadata": {},
   "outputs": [
    {
     "name": "stdout",
     "output_type": "stream",
     "text": [
      "+------+-----------+------+---------+\n",
      "|21A_Pr|     21A_Es|21A_Ma|21A_Es_Di|\n",
      "+------+-----------+------+---------+\n",
      "|   129|       null| Light|        4|\n",
      "|  null|    0.34532| Water|        5|\n",
      "|   131|    0.99999|  null|        1|\n",
      "|   132|      0.865|  Dark|     null|\n",
      "|   133|       null|  Fire|     null|\n",
      "|     1|        0.5| HMate|        4|\n",
      "|     2|0.226190476| HMate|        5|\n",
      "|     3|0.273809524| HMate|        5|\n",
      "|     4|0.297619048| HMate|        5|\n",
      "|     5|0.678571429| HMate|        3|\n",
      "|     6| 0.69047619| HMate|        3|\n",
      "|     7|0.607142857| HMate|        3|\n",
      "|     8|0.285714286| HMate|        5|\n",
      "|     9| 0.44047619| HMate|        4|\n",
      "|    10|0.345238095| HMate|        4|\n",
      "|    11|0.178571429| HMate|        5|\n",
      "|    12|0.785714286| HMate|        2|\n",
      "|    13|0.404761905| HMate|        4|\n",
      "|    14|0.476190476| HMate|        4|\n",
      "|    15|0.333333333| HMate|        5|\n",
      "+------+-----------+------+---------+\n",
      "only showing top 20 rows\n",
      "\n"
     ]
    }
   ],
   "source": [
    "### thershold\n",
    "df_pyspark.na.drop(how='any', thresh=1).show()"
   ]
  },
  {
   "cell_type": "code",
   "execution_count": 27,
   "id": "e9300920",
   "metadata": {},
   "outputs": [
    {
     "name": "stdout",
     "output_type": "stream",
     "text": [
      "+------+-----------+-------+---------+\n",
      "|21A_Pr|     21A_Es| 21A_Ma|21A_Es_Di|\n",
      "+------+-----------+-------+---------+\n",
      "|   129|       null|  Light|        4|\n",
      "|  null|    0.34532|  Water|        5|\n",
      "|   131|    0.99999|   null|        1|\n",
      "|     1|        0.5|  HMate|        4|\n",
      "|     2|0.226190476|  HMate|        5|\n",
      "|     3|0.273809524|  HMate|        5|\n",
      "|     4|0.297619048|  HMate|        5|\n",
      "|     5|0.678571429|  HMate|        3|\n",
      "|     6| 0.69047619|  HMate|        3|\n",
      "|     7|0.607142857|  HMate|        3|\n",
      "|     8|0.285714286|  HMate|        5|\n",
      "|     9| 0.44047619|  HMate|        4|\n",
      "|    10|0.345238095|  HMate|        4|\n",
      "|    11|0.178571429|  HMate|        5|\n",
      "|    12|0.785714286|  HMate|        2|\n",
      "|    13|0.404761905|  HMate|        4|\n",
      "|    14|0.476190476|  HMate|        4|\n",
      "|    15|0.333333333|  HMate|        5|\n",
      "|    16|0.666666667|  HMate|        3|\n",
      "|    17|0.380952381|HVerbal|        4|\n",
      "+------+-----------+-------+---------+\n",
      "only showing top 20 rows\n",
      "\n"
     ]
    }
   ],
   "source": [
    "### thershold\n",
    "df_pyspark.na.drop(how='any',subset='21A_Es_Di').show()"
   ]
  },
  {
   "cell_type": "code",
   "execution_count": 28,
   "id": "8672b20a",
   "metadata": {},
   "outputs": [
    {
     "name": "stdout",
     "output_type": "stream",
     "text": [
      "+------+-----------+------+---------+\n",
      "|21A_Pr|     21A_Es|21A_Ma|21A_Es_Di|\n",
      "+------+-----------+------+---------+\n",
      "|   129|     1000.0| Light|        4|\n",
      "|  1000|    0.34532| Water|        5|\n",
      "|   131|    0.99999|  null|        1|\n",
      "|   132|      0.865|  Dark|     1000|\n",
      "|   133|     1000.0|  Fire|     1000|\n",
      "|     1|        0.5| HMate|        4|\n",
      "|     2|0.226190476| HMate|        5|\n",
      "|     3|0.273809524| HMate|        5|\n",
      "|     4|0.297619048| HMate|        5|\n",
      "|     5|0.678571429| HMate|        3|\n",
      "|     6| 0.69047619| HMate|        3|\n",
      "|     7|0.607142857| HMate|        3|\n",
      "|     8|0.285714286| HMate|        5|\n",
      "|     9| 0.44047619| HMate|        4|\n",
      "|    10|0.345238095| HMate|        4|\n",
      "|    11|0.178571429| HMate|        5|\n",
      "|    12|0.785714286| HMate|        2|\n",
      "|    13|0.404761905| HMate|        4|\n",
      "|    14|0.476190476| HMate|        4|\n",
      "|    15|0.333333333| HMate|        5|\n",
      "+------+-----------+------+---------+\n",
      "only showing top 20 rows\n",
      "\n",
      "+------+-----------+------+---------+\n",
      "|21A_Pr|     21A_Es|21A_Ma|21A_Es_Di|\n",
      "+------+-----------+------+---------+\n",
      "|   129|       null| Light|        4|\n",
      "|  null|    0.34532| Water|        5|\n",
      "|   131|    0.99999|   N/A|        1|\n",
      "|   132|      0.865|  Dark|     null|\n",
      "|   133|       null|  Fire|     null|\n",
      "|     1|        0.5| HMate|        4|\n",
      "|     2|0.226190476| HMate|        5|\n",
      "|     3|0.273809524| HMate|        5|\n",
      "|     4|0.297619048| HMate|        5|\n",
      "|     5|0.678571429| HMate|        3|\n",
      "|     6| 0.69047619| HMate|        3|\n",
      "|     7|0.607142857| HMate|        3|\n",
      "|     8|0.285714286| HMate|        5|\n",
      "|     9| 0.44047619| HMate|        4|\n",
      "|    10|0.345238095| HMate|        4|\n",
      "|    11|0.178571429| HMate|        5|\n",
      "|    12|0.785714286| HMate|        2|\n",
      "|    13|0.404761905| HMate|        4|\n",
      "|    14|0.476190476| HMate|        4|\n",
      "|    15|0.333333333| HMate|        5|\n",
      "+------+-----------+------+---------+\n",
      "only showing top 20 rows\n",
      "\n",
      "+------+-----------+------+---------+\n",
      "|21A_Pr|     21A_Es|21A_Ma|21A_Es_Di|\n",
      "+------+-----------+------+---------+\n",
      "|   129|       null| Light|        4|\n",
      "|  null|    0.34532| Water|        5|\n",
      "|   131|    0.99999|  null|        1|\n",
      "|   132|      0.865|  Dark|      999|\n",
      "|   133|       null|  Fire|      999|\n",
      "|     1|        0.5| HMate|        4|\n",
      "|     2|0.226190476| HMate|        5|\n",
      "|     3|0.273809524| HMate|        5|\n",
      "|     4|0.297619048| HMate|        5|\n",
      "|     5|0.678571429| HMate|        3|\n",
      "|     6| 0.69047619| HMate|        3|\n",
      "|     7|0.607142857| HMate|        3|\n",
      "|     8|0.285714286| HMate|        5|\n",
      "|     9| 0.44047619| HMate|        4|\n",
      "|    10|0.345238095| HMate|        4|\n",
      "|    11|0.178571429| HMate|        5|\n",
      "|    12|0.785714286| HMate|        2|\n",
      "|    13|0.404761905| HMate|        4|\n",
      "|    14|0.476190476| HMate|        4|\n",
      "|    15|0.333333333| HMate|        5|\n",
      "+------+-----------+------+---------+\n",
      "only showing top 20 rows\n",
      "\n"
     ]
    }
   ],
   "source": [
    "df_pyspark.na.fill(1000).show() ## Columnas con tipo de dato numerico (doble o enterlo)\n",
    "df_pyspark.na.fill(\"N/A\").show()  ## Coluimnas con tipo de dato string\n",
    "df_pyspark.na.fill(999,subset=\"21A_Es_Di\").show()  ## Columna especifica"
   ]
  },
  {
   "cell_type": "code",
   "execution_count": 29,
   "id": "4066ab0f",
   "metadata": {},
   "outputs": [],
   "source": [
    "from pyspark.ml.feature import Imputer\n",
    "\n",
    "imputer = Imputer( \n",
    "    inputCols=['21A_Pr','21A_Es_Di'],\n",
    "    outputCols=[\"{}_imputed\".format(c) for c in ['21A_Pr','21A_Es_Di'] ]\n",
    ").setStrategy(\"mean\")\n",
    "\n",
    "## Inversigar Imputer"
   ]
  },
  {
   "cell_type": "code",
   "execution_count": 30,
   "id": "3510be73",
   "metadata": {},
   "outputs": [
    {
     "name": "stdout",
     "output_type": "stream",
     "text": [
      "+------+-----------+------+---------+--------------+-----------------+\n",
      "|21A_Pr|     21A_Es|21A_Ma|21A_Es_Di|21A_Pr_imputed|21A_Es_Di_imputed|\n",
      "+------+-----------+------+---------+--------------+-----------------+\n",
      "|   129|       null| Light|        4|           129|                4|\n",
      "|  null|    0.34532| Water|        5|            66|                5|\n",
      "|   131|    0.99999|  null|        1|           131|                1|\n",
      "|   132|      0.865|  Dark|     null|           132|                3|\n",
      "|   133|       null|  Fire|     null|           133|                3|\n",
      "|     1|        0.5| HMate|        4|             1|                4|\n",
      "|     2|0.226190476| HMate|        5|             2|                5|\n",
      "|     3|0.273809524| HMate|        5|             3|                5|\n",
      "|     4|0.297619048| HMate|        5|             4|                5|\n",
      "|     5|0.678571429| HMate|        3|             5|                3|\n",
      "|     6| 0.69047619| HMate|        3|             6|                3|\n",
      "|     7|0.607142857| HMate|        3|             7|                3|\n",
      "|     8|0.285714286| HMate|        5|             8|                5|\n",
      "|     9| 0.44047619| HMate|        4|             9|                4|\n",
      "|    10|0.345238095| HMate|        4|            10|                4|\n",
      "|    11|0.178571429| HMate|        5|            11|                5|\n",
      "|    12|0.785714286| HMate|        2|            12|                2|\n",
      "|    13|0.404761905| HMate|        4|            13|                4|\n",
      "|    14|0.476190476| HMate|        4|            14|                4|\n",
      "|    15|0.333333333| HMate|        5|            15|                5|\n",
      "+------+-----------+------+---------+--------------+-----------------+\n",
      "only showing top 20 rows\n",
      "\n"
     ]
    }
   ],
   "source": [
    "## Se añaden las columnas imputadas al dataFrame\n",
    "imputer.fit(df_pyspark).transform(df_pyspark).show()"
   ]
  },
  {
   "cell_type": "code",
   "execution_count": 31,
   "id": "0bd9949a",
   "metadata": {},
   "outputs": [
    {
     "name": "stdout",
     "output_type": "stream",
     "text": [
      "+------+-----------+------+---------+\n",
      "|21A_Pr|     21A_Es|21A_Ma|21A_Es_Di|\n",
      "+------+-----------+------+---------+\n",
      "|   129|       null| Light|        4|\n",
      "|  null|    0.34532| Water|        5|\n",
      "|   131|    0.99999|  null|        1|\n",
      "|   132|      0.865|  Dark|     null|\n",
      "|   133|       null|  Fire|     null|\n",
      "|     1|        0.5| HMate|        4|\n",
      "|     2|0.226190476| HMate|        5|\n",
      "|     3|0.273809524| HMate|        5|\n",
      "|     4|0.297619048| HMate|        5|\n",
      "|     5|0.678571429| HMate|        3|\n",
      "|     6| 0.69047619| HMate|        3|\n",
      "|     7|0.607142857| HMate|        3|\n",
      "|     8|0.285714286| HMate|        5|\n",
      "|     9| 0.44047619| HMate|        4|\n",
      "|    10|0.345238095| HMate|        4|\n",
      "|    11|0.178571429| HMate|        5|\n",
      "|    12|0.785714286| HMate|        2|\n",
      "|    13|0.404761905| HMate|        4|\n",
      "|    14|0.476190476| HMate|        4|\n",
      "|    15|0.333333333| HMate|        5|\n",
      "+------+-----------+------+---------+\n",
      "only showing top 20 rows\n",
      "\n"
     ]
    }
   ],
   "source": [
    "df_pyspark.show()"
   ]
  },
  {
   "cell_type": "code",
   "execution_count": 32,
   "id": "6d9df74d",
   "metadata": {},
   "outputs": [],
   "source": [
    "df_pyspark=spark.read.csv('pds1.csv', header=True, inferSchema=True)"
   ]
  },
  {
   "cell_type": "code",
   "execution_count": 33,
   "id": "1f3d9a8f",
   "metadata": {},
   "outputs": [
    {
     "name": "stdout",
     "output_type": "stream",
     "text": [
      "+------+-----------+-------+---------+\n",
      "|21A_Pr|     21A_Es| 21A_Ma|21A_Es_Di|\n",
      "+------+-----------+-------+---------+\n",
      "|     1|        0.5|  HMate|        4|\n",
      "|     2|0.226190476|  HMate|        5|\n",
      "|     3|0.273809524|  HMate|        5|\n",
      "|     4|0.297619048|  HMate|        5|\n",
      "|     5|0.678571429|  HMate|        3|\n",
      "|     6| 0.69047619|  HMate|        3|\n",
      "|     7|0.607142857|  HMate|        3|\n",
      "|     8|0.285714286|  HMate|        5|\n",
      "|     9| 0.44047619|  HMate|        4|\n",
      "|    10|0.345238095|  HMate|        4|\n",
      "|    11|0.178571429|  HMate|        5|\n",
      "|    12|0.785714286|  HMate|        2|\n",
      "|    13|0.404761905|  HMate|        4|\n",
      "|    14|0.476190476|  HMate|        4|\n",
      "|    15|0.333333333|  HMate|        5|\n",
      "|    16|0.666666667|  HMate|        3|\n",
      "|    17|0.380952381|HVerbal|        4|\n",
      "|    18|0.797619048|HVerbal|        2|\n",
      "|    19|0.535714286|HVerbal|        3|\n",
      "|    20|0.416666667|HVerbal|        4|\n",
      "+------+-----------+-------+---------+\n",
      "only showing top 20 rows\n",
      "\n"
     ]
    }
   ],
   "source": [
    "df_pyspark.show()"
   ]
  },
  {
   "cell_type": "code",
   "execution_count": 34,
   "id": "dc04ffd0",
   "metadata": {},
   "outputs": [
    {
     "data": {
      "text/plain": [
       "[Column<'21A_Pr AS numPregunta'>,\n",
       " Column<'21A_Es AS estadistica'>,\n",
       " Column<'21A_Ma AS materia'>,\n",
       " Column<'21A_Es_Di AS dificultad'>]"
      ]
     },
     "execution_count": 34,
     "metadata": {},
     "output_type": "execute_result"
    }
   ],
   "source": [
    "from pyspark.sql.functions import col\n",
    "import os\n",
    "\n",
    "nuevosNombres= [(\"21A_Pr\",\"numPregunta\"),(\"21A_Es\",\"estadistica\"),(\"21A_Ma\",\"materia\"),(\"21A_Es_Di\",\"dificultad\")]\n",
    "type(nuevosNombres)\n",
    "\n",
    "columnExprs = [col(elem[0]).alias(elem[1]) for elem in nuevosNombres]\n",
    "type(columnExprs)\n",
    "columnExprs"
   ]
  },
  {
   "cell_type": "code",
   "execution_count": 35,
   "id": "32946d59",
   "metadata": {},
   "outputs": [
    {
     "name": "stdout",
     "output_type": "stream",
     "text": [
      "+-----------+-----------+-------+----------+\n",
      "|numPregunta|estadistica|materia|dificultad|\n",
      "+-----------+-----------+-------+----------+\n",
      "|          1|        0.5|  HMate|         4|\n",
      "|          2|0.226190476|  HMate|         5|\n",
      "|          3|0.273809524|  HMate|         5|\n",
      "|          4|0.297619048|  HMate|         5|\n",
      "|          5|0.678571429|  HMate|         3|\n",
      "|          6| 0.69047619|  HMate|         3|\n",
      "|          7|0.607142857|  HMate|         3|\n",
      "|          8|0.285714286|  HMate|         5|\n",
      "|          9| 0.44047619|  HMate|         4|\n",
      "|         10|0.345238095|  HMate|         4|\n",
      "|         11|0.178571429|  HMate|         5|\n",
      "|         12|0.785714286|  HMate|         2|\n",
      "|         13|0.404761905|  HMate|         4|\n",
      "|         14|0.476190476|  HMate|         4|\n",
      "|         15|0.333333333|  HMate|         5|\n",
      "|         16|0.666666667|  HMate|         3|\n",
      "|         17|0.380952381|HVerbal|         4|\n",
      "|         18|0.797619048|HVerbal|         2|\n",
      "|         19|0.535714286|HVerbal|         3|\n",
      "|         20|0.416666667|HVerbal|         4|\n",
      "+-----------+-----------+-------+----------+\n",
      "only showing top 20 rows\n",
      "\n"
     ]
    }
   ],
   "source": [
    "transformed_df=df_pyspark.select(*columnExprs)\n",
    "type(transformed_df)\n",
    "transformed_df.show()"
   ]
  },
  {
   "cell_type": "markdown",
   "id": "1f2c52f1",
   "metadata": {},
   "source": [
    "## Pyspark Data frame\n",
    "- Filter Operation\n",
    "- &, | , ==\n",
    "- ~"
   ]
  },
  {
   "cell_type": "code",
   "execution_count": 36,
   "id": "bd59bc42",
   "metadata": {},
   "outputs": [
    {
     "name": "stdout",
     "output_type": "stream",
     "text": [
      "+-----------+-----------+-------+----------+\n",
      "|numPregunta|estadistica|materia|dificultad|\n",
      "+-----------+-----------+-------+----------+\n",
      "|          1|        0.5|  HMate|         4|\n",
      "|          2|0.226190476|  HMate|         5|\n",
      "|          3|0.273809524|  HMate|         5|\n",
      "|          4|0.297619048|  HMate|         5|\n",
      "|          5|0.678571429|  HMate|         3|\n",
      "|          6| 0.69047619|  HMate|         3|\n",
      "|          7|0.607142857|  HMate|         3|\n",
      "|          8|0.285714286|  HMate|         5|\n",
      "|          9| 0.44047619|  HMate|         4|\n",
      "|         10|0.345238095|  HMate|         4|\n",
      "|         11|0.178571429|  HMate|         5|\n",
      "|         12|0.785714286|  HMate|         2|\n",
      "|         13|0.404761905|  HMate|         4|\n",
      "|         14|0.476190476|  HMate|         4|\n",
      "|         15|0.333333333|  HMate|         5|\n",
      "|         16|0.666666667|  HMate|         3|\n",
      "|         17|0.380952381|HVerbal|         4|\n",
      "|         18|0.797619048|HVerbal|         2|\n",
      "|         19|0.535714286|HVerbal|         3|\n",
      "|         20|0.416666667|HVerbal|         4|\n",
      "+-----------+-----------+-------+----------+\n",
      "only showing top 20 rows\n",
      "\n"
     ]
    }
   ],
   "source": [
    "df_pyspark = transformed_df\n",
    "df_pyspark.show()"
   ]
  },
  {
   "cell_type": "markdown",
   "id": "825a38f1",
   "metadata": {},
   "source": [
    "### Filter operations"
   ]
  },
  {
   "cell_type": "code",
   "execution_count": 37,
   "id": "f28c1731",
   "metadata": {},
   "outputs": [
    {
     "name": "stdout",
     "output_type": "stream",
     "text": [
      "+-----------+-----------+-------+----------+\n",
      "|numPregunta|estadistica|materia|dificultad|\n",
      "+-----------+-----------+-------+----------+\n",
      "|          5|0.678571429|  HMate|         3|\n",
      "|          6| 0.69047619|  HMate|         3|\n",
      "|          7|0.607142857|  HMate|         3|\n",
      "|         12|0.785714286|  HMate|         2|\n",
      "|         16|0.666666667|  HMate|         3|\n",
      "|         18|0.797619048|HVerbal|         2|\n",
      "|         19|0.535714286|HVerbal|         3|\n",
      "|         21|0.857142857|HVerbal|         2|\n",
      "|         22|0.761904762|HVerbal|         2|\n",
      "|         23| 0.69047619|HVerbal|         3|\n",
      "|         24|0.607142857|HVerbal|         3|\n",
      "|         25|0.761904762|HVerbal|         2|\n",
      "|         28|0.797619048|HVerbal|         2|\n",
      "|         30|0.547619048|HVerbal|         3|\n",
      "|         32|0.619047619|HVerbal|         3|\n",
      "|         38|0.619047619|    Bio|         3|\n",
      "|         40|0.714285714|    Bio|         3|\n",
      "|         44|0.761904762|    Bio|         2|\n",
      "|         47|0.916666667|    Civ|         1|\n",
      "|         49|0.595238095|    Civ|         3|\n",
      "+-----------+-----------+-------+----------+\n",
      "only showing top 20 rows\n",
      "\n"
     ]
    }
   ],
   "source": [
    "### Filtros\n",
    "df_pyspark.filter(\"dificultad <=3\").show()\n"
   ]
  },
  {
   "cell_type": "code",
   "execution_count": 38,
   "id": "33f0dc0a",
   "metadata": {},
   "outputs": [
    {
     "name": "stdout",
     "output_type": "stream",
     "text": [
      "+-----------+-------+\n",
      "|numPregunta|materia|\n",
      "+-----------+-------+\n",
      "|          5|  HMate|\n",
      "|          6|  HMate|\n",
      "|          7|  HMate|\n",
      "|         12|  HMate|\n",
      "|         16|  HMate|\n",
      "|         18|HVerbal|\n",
      "|         19|HVerbal|\n",
      "|         21|HVerbal|\n",
      "|         22|HVerbal|\n",
      "|         23|HVerbal|\n",
      "|         24|HVerbal|\n",
      "|         25|HVerbal|\n",
      "|         28|HVerbal|\n",
      "|         30|HVerbal|\n",
      "|         32|HVerbal|\n",
      "|         38|    Bio|\n",
      "|         40|    Bio|\n",
      "|         44|    Bio|\n",
      "|         47|    Civ|\n",
      "|         49|    Civ|\n",
      "+-----------+-------+\n",
      "only showing top 20 rows\n",
      "\n"
     ]
    }
   ],
   "source": [
    "df_pyspark.filter('dificultad <=3').select([\"numPregunta\",\"materia\"]).show()"
   ]
  },
  {
   "cell_type": "code",
   "execution_count": 39,
   "id": "acfde135",
   "metadata": {},
   "outputs": [
    {
     "name": "stdout",
     "output_type": "stream",
     "text": [
      "+-----------+-----------+-------+----------+\n",
      "|numPregunta|estadistica|materia|dificultad|\n",
      "+-----------+-----------+-------+----------+\n",
      "|         18|0.797619048|HVerbal|         2|\n",
      "|         19|0.535714286|HVerbal|         3|\n",
      "|         21|0.857142857|HVerbal|         2|\n",
      "|         22|0.761904762|HVerbal|         2|\n",
      "|         23| 0.69047619|HVerbal|         3|\n",
      "|         24|0.607142857|HVerbal|         3|\n",
      "|         25|0.761904762|HVerbal|         2|\n",
      "|         28|0.797619048|HVerbal|         2|\n",
      "|         30|0.547619048|HVerbal|         3|\n",
      "|         32|0.619047619|HVerbal|         3|\n",
      "+-----------+-----------+-------+----------+\n",
      "\n"
     ]
    }
   ],
   "source": [
    "df_pyspark.filter((df_pyspark['dificultad']<=3) & (df_pyspark[\"materia\"]==\"HVerbal\")).show()"
   ]
  },
  {
   "cell_type": "code",
   "execution_count": 40,
   "id": "fd57a2e3",
   "metadata": {},
   "outputs": [
    {
     "name": "stdout",
     "output_type": "stream",
     "text": [
      "+-----------+-----------+-------+----------+\n",
      "|numPregunta|estadistica|materia|dificultad|\n",
      "+-----------+-----------+-------+----------+\n",
      "|          5|0.678571429|  HMate|         3|\n",
      "|          6| 0.69047619|  HMate|         3|\n",
      "|          7|0.607142857|  HMate|         3|\n",
      "|         12|0.785714286|  HMate|         2|\n",
      "|         16|0.666666667|  HMate|         3|\n",
      "|         17|0.380952381|HVerbal|         4|\n",
      "|         18|0.797619048|HVerbal|         2|\n",
      "|         19|0.535714286|HVerbal|         3|\n",
      "|         20|0.416666667|HVerbal|         4|\n",
      "|         21|0.857142857|HVerbal|         2|\n",
      "|         22|0.761904762|HVerbal|         2|\n",
      "|         23| 0.69047619|HVerbal|         3|\n",
      "|         24|0.607142857|HVerbal|         3|\n",
      "|         25|0.761904762|HVerbal|         2|\n",
      "|         26|0.047619048|HVerbal|         5|\n",
      "|         27|0.392857143|HVerbal|         4|\n",
      "|         28|0.797619048|HVerbal|         2|\n",
      "|         29| 0.19047619|HVerbal|         5|\n",
      "|         30|0.547619048|HVerbal|         3|\n",
      "|         31|0.333333333|HVerbal|         5|\n",
      "|         32|0.619047619|HVerbal|         3|\n",
      "|         38|0.619047619|    Bio|         3|\n",
      "|         40|0.714285714|    Bio|         3|\n",
      "|         44|0.761904762|    Bio|         2|\n",
      "|         47|0.916666667|    Civ|         1|\n",
      "|         49|0.595238095|    Civ|         3|\n",
      "|         50| 0.94047619|    Civ|         1|\n",
      "|         52|0.904761905|    Civ|         1|\n",
      "|         58|0.821428571|    Esp|         2|\n",
      "|         59|0.619047619|    Esp|         3|\n",
      "|         62|0.607142857|    Esp|         3|\n",
      "|         67|0.892857143|    Esp|         1|\n",
      "|         68|0.678571429|    Esp|         3|\n",
      "|         69|0.773809524|    Fis|         2|\n",
      "|         70|0.821428571|    Fis|         2|\n",
      "|         74|0.714285714|    Fis|         3|\n",
      "|         79|0.666666667|    Fis|         3|\n",
      "|         81|0.833333333|    Geo|         2|\n",
      "|         94|0.547619048| HisMex|         3|\n",
      "|         96|0.630952381| HisMex|         3|\n",
      "|        100|0.547619048| HisUni|         3|\n",
      "|        103|0.773809524| HisUni|         2|\n",
      "|        105|0.535714286|   Mate|         3|\n",
      "|        106|0.654761905|   Mate|         3|\n",
      "|        111| 0.69047619|   Mate|         3|\n",
      "|        116|0.726190476|   Mate|         2|\n",
      "|        120|0.630952381|    Qui|         3|\n",
      "+-----------+-----------+-------+----------+\n",
      "\n"
     ]
    }
   ],
   "source": [
    "df_pyspark.filter((df_pyspark['dificultad']<=3) | (df_pyspark[\"materia\"]==\"HVerbal\")).show(df_pyspark.count())"
   ]
  },
  {
   "cell_type": "code",
   "execution_count": 41,
   "id": "628cc9ce",
   "metadata": {},
   "outputs": [
    {
     "name": "stdout",
     "output_type": "stream",
     "text": [
      "+-----------+-----------+-------+----------+\n",
      "|numPregunta|estadistica|materia|dificultad|\n",
      "+-----------+-----------+-------+----------+\n",
      "|          5|0.678571429|  HMate|         3|\n",
      "|          6| 0.69047619|  HMate|         3|\n",
      "|          7|0.607142857|  HMate|         3|\n",
      "|         12|0.785714286|  HMate|         2|\n",
      "|         16|0.666666667|  HMate|         3|\n",
      "|         18|0.797619048|HVerbal|         2|\n",
      "|         19|0.535714286|HVerbal|         3|\n",
      "|         21|0.857142857|HVerbal|         2|\n",
      "|         22|0.761904762|HVerbal|         2|\n",
      "|         23| 0.69047619|HVerbal|         3|\n",
      "|         24|0.607142857|HVerbal|         3|\n",
      "|         25|0.761904762|HVerbal|         2|\n",
      "|         28|0.797619048|HVerbal|         2|\n",
      "|         30|0.547619048|HVerbal|         3|\n",
      "|         32|0.619047619|HVerbal|         3|\n",
      "|         38|0.619047619|    Bio|         3|\n",
      "|         40|0.714285714|    Bio|         3|\n",
      "|         44|0.761904762|    Bio|         2|\n",
      "|         47|0.916666667|    Civ|         1|\n",
      "|         49|0.595238095|    Civ|         3|\n",
      "+-----------+-----------+-------+----------+\n",
      "only showing top 20 rows\n",
      "\n"
     ]
    }
   ],
   "source": [
    "df_pyspark.filter(df_pyspark['dificultad']<=3).show()"
   ]
  },
  {
   "cell_type": "code",
   "execution_count": 42,
   "id": "bc423fb4",
   "metadata": {},
   "outputs": [
    {
     "name": "stdout",
     "output_type": "stream",
     "text": [
      "+-----------+-----------+-------+----------+\n",
      "|numPregunta|estadistica|materia|dificultad|\n",
      "+-----------+-----------+-------+----------+\n",
      "|          1|        0.5|  HMate|         4|\n",
      "|          2|0.226190476|  HMate|         5|\n",
      "|          3|0.273809524|  HMate|         5|\n",
      "|          4|0.297619048|  HMate|         5|\n",
      "|          8|0.285714286|  HMate|         5|\n",
      "|          9| 0.44047619|  HMate|         4|\n",
      "|         10|0.345238095|  HMate|         4|\n",
      "|         11|0.178571429|  HMate|         5|\n",
      "|         13|0.404761905|  HMate|         4|\n",
      "|         14|0.476190476|  HMate|         4|\n",
      "|         15|0.333333333|  HMate|         5|\n",
      "|         17|0.380952381|HVerbal|         4|\n",
      "|         20|0.416666667|HVerbal|         4|\n",
      "|         26|0.047619048|HVerbal|         5|\n",
      "|         27|0.392857143|HVerbal|         4|\n",
      "|         29| 0.19047619|HVerbal|         5|\n",
      "|         31|0.333333333|HVerbal|         5|\n",
      "|         33|0.380952381|    Bio|         4|\n",
      "|         34|0.357142857|    Bio|         4|\n",
      "|         35|0.297619048|    Bio|         5|\n",
      "+-----------+-----------+-------+----------+\n",
      "only showing top 20 rows\n",
      "\n"
     ]
    }
   ],
   "source": [
    "df_pyspark.filter(~(df_pyspark['dificultad']<=3)).show()"
   ]
  },
  {
   "cell_type": "markdown",
   "id": "afb9b4db",
   "metadata": {},
   "source": [
    "## Group by y agregar funciones"
   ]
  },
  {
   "cell_type": "code",
   "execution_count": 43,
   "id": "44df1367",
   "metadata": {},
   "outputs": [
    {
     "name": "stdout",
     "output_type": "stream",
     "text": [
      "root\n",
      " |-- numPregunta: integer (nullable = true)\n",
      " |-- estadistica: double (nullable = true)\n",
      " |-- materia: string (nullable = true)\n",
      " |-- dificultad: integer (nullable = true)\n",
      "\n"
     ]
    }
   ],
   "source": [
    "df_pyspark.printSchema()"
   ]
  },
  {
   "cell_type": "code",
   "execution_count": 44,
   "id": "550d39cf",
   "metadata": {},
   "outputs": [
    {
     "name": "stdout",
     "output_type": "stream",
     "text": [
      "+-------+----------------+-------------------+------------------+\n",
      "|materia|avg(numPregunta)|   avg(estadistica)|   avg(dificultad)|\n",
      "+-------+----------------+-------------------+------------------+\n",
      "|    Fis|            74.5| 0.5089285714166667|              3.75|\n",
      "|   Mate|           110.5|0.45833333341666677|              3.75|\n",
      "|    Bio|            38.5|0.46527777775000007|              3.75|\n",
      "|    Qui|           122.5|0.29662698416666666| 4.666666666666667|\n",
      "|    Geo|            86.5| 0.4097222223333333|              4.25|\n",
      "|    Esp|            62.5| 0.4950396824999999|3.5833333333333335|\n",
      "|    Civ|            50.5|      0.52083333325|               3.5|\n",
      "| HisUni|           101.5| 0.4246031748333334|               4.0|\n",
      "| HisMex|            95.5|0.42857142866666664|               4.0|\n",
      "|HVerbal|            24.5|    0.5461309524375|              3.25|\n",
      "|  HMate|             8.5|    0.4494047619375|               4.0|\n",
      "+-------+----------------+-------------------+------------------+\n",
      "\n"
     ]
    }
   ],
   "source": [
    "## Group by\n",
    "df_pyspark.groupBy('materia').avg().show()"
   ]
  },
  {
   "cell_type": "code",
   "execution_count": 45,
   "id": "82ff7cb6",
   "metadata": {},
   "outputs": [
    {
     "name": "stdout",
     "output_type": "stream",
     "text": [
      "+-------+----------------+-------------------+------------------+\n",
      "|materia|avg(numPregunta)|   avg(estadistica)|   avg(dificultad)|\n",
      "+-------+----------------+-------------------+------------------+\n",
      "|    Fis|            74.5| 0.5089285714166667|              3.75|\n",
      "|   Mate|           110.5|0.45833333341666677|              3.75|\n",
      "|    Bio|            38.5|0.46527777775000007|              3.75|\n",
      "|    Qui|           122.5|0.29662698416666666| 4.666666666666667|\n",
      "|    Geo|            86.5| 0.4097222223333333|              4.25|\n",
      "|    Esp|            62.5| 0.4950396824999999|3.5833333333333335|\n",
      "|    Civ|            50.5|      0.52083333325|               3.5|\n",
      "| HisUni|           101.5| 0.4246031748333334|               4.0|\n",
      "| HisMex|            95.5|0.42857142866666664|               4.0|\n",
      "|HVerbal|            24.5|    0.5461309524375|              3.25|\n",
      "|  HMate|             8.5|    0.4494047619375|               4.0|\n",
      "+-------+----------------+-------------------+------------------+\n",
      "\n"
     ]
    }
   ],
   "source": [
    "df_pyspark.groupBy('materia').mean().show()"
   ]
  },
  {
   "cell_type": "code",
   "execution_count": 46,
   "id": "d520f86b",
   "metadata": {},
   "outputs": [
    {
     "name": "stdout",
     "output_type": "stream",
     "text": [
      "+----------+-----+\n",
      "|dificultad|count|\n",
      "+----------+-----+\n",
      "|         1|    4|\n",
      "|         3|   24|\n",
      "|         5|   41|\n",
      "|         4|   46|\n",
      "|         2|   13|\n",
      "+----------+-----+\n",
      "\n"
     ]
    }
   ],
   "source": [
    "df_pyspark.groupBy('dificultad').count().show()"
   ]
  },
  {
   "cell_type": "code",
   "execution_count": 47,
   "id": "159d37a2",
   "metadata": {},
   "outputs": [
    {
     "name": "stdout",
     "output_type": "stream",
     "text": [
      "+-------------------+\n",
      "|   avg(estadistica)|\n",
      "+-------------------+\n",
      "|0.46019345241406256|\n",
      "+-------------------+\n",
      "\n"
     ]
    }
   ],
   "source": [
    "df_pyspark.agg({'estadistica':'mean'}).show()"
   ]
  },
  {
   "cell_type": "code",
   "execution_count": 48,
   "id": "d270e103",
   "metadata": {},
   "outputs": [
    {
     "name": "stdout",
     "output_type": "stream",
     "text": [
      "+-------+----------------+----------------+---------------+\n",
      "|materia|max(numPregunta)|max(estadistica)|max(dificultad)|\n",
      "+-------+----------------+----------------+---------------+\n",
      "|    Fis|              80|     0.821428571|              5|\n",
      "|   Mate|             116|     0.726190476|              5|\n",
      "|    Bio|              44|     0.761904762|              5|\n",
      "|    Qui|             128|     0.630952381|              5|\n",
      "|    Geo|              92|     0.833333333|              5|\n",
      "|    Esp|              68|     0.892857143|              5|\n",
      "|    Civ|              56|      0.94047619|              5|\n",
      "| HisUni|             104|     0.773809524|              5|\n",
      "| HisMex|              98|     0.630952381|              5|\n",
      "|HVerbal|              32|     0.857142857|              5|\n",
      "|  HMate|              16|     0.785714286|              5|\n",
      "+-------+----------------+----------------+---------------+\n",
      "\n"
     ]
    }
   ],
   "source": [
    "df_pyspark.groupBy('materia').max().show()"
   ]
  },
  {
   "cell_type": "markdown",
   "id": "fe5180c9",
   "metadata": {},
   "source": [
    "## Ejemplos ML"
   ]
  },
  {
   "cell_type": "code",
   "execution_count": 88,
   "id": "5b00da69",
   "metadata": {},
   "outputs": [],
   "source": [
    "training = spark.read.csv(\"pds3.csv\", header = True, inferSchema = True)"
   ]
  },
  {
   "cell_type": "code",
   "execution_count": 89,
   "id": "b8f2919d",
   "metadata": {},
   "outputs": [
    {
     "name": "stdout",
     "output_type": "stream",
     "text": [
      "+-----+----------+--------------------+------------+------------+--------+---------+---------+--------+----------+---------+--------+-----------+-----------+\n",
      "|Grupo|N DE LISTA|              NOMBRE|H. VBAL (16)|H. MATE (16)|ESP (12)|MATE (12)|HIST (12)|GEO (12)|CÍVICA(12)|QUÍM (12)|BIO (12)|FÍSICA (12)|TOTAL (128)|\n",
      "+-----+----------+--------------------+------------+------------+--------+---------+---------+--------+----------+---------+--------+-----------+-----------+\n",
      "|IBA-0|         0|                CED |          16|          16|      12|       12|       12|      12|        12|       12|      12|         12|        128|\n",
      "|IBA-1|         1|Diaz Becerril Fer...|           9|           3|       8|        2|        5|       1|         5|        8|       8|          6|         55|\n",
      "|IBA-1|         2|Rodrigo Esquivel ...|           9|          11|       7|        4|        2|       7|         4|        5|       6|          6|         61|\n",
      "|IBA-1|         3|flores mendoza arely|          10|           9|       6|        5|        3|       7|         4|        7|       8|          4|         63|\n",
      "|IBA-1|         4|Garcia Gonzalez P...|          13|          11|      10|        8|        7|       9|         7|        9|       8|         11|         93|\n",
      "|IBA-1|         5|García Salazar Ab...|          11|          10|      11|        8|        6|       7|         8|        5|       9|          5|         80|\n",
      "|IBA-1|         6|Jesús González Ca...|           6|          15|       7|        5|        8|      11|         6|       10|       7|         10|         85|\n",
      "|IBA-1|         7|Hernández Ramos B...|          10|          11|       7|        7|        4|       9|         7|        9|       8|          9|         81|\n",
      "|IBA-1|         8|Jiménez Zaragoza ...|          11|          12|       8|        7|        8|       9|         5|        4|      11|          9|         84|\n",
      "|IBA-1|         9|Andrea Naomi Lira...|          11|          10|       8|        5|        5|       6|         7|        5|       8|          8|         73|\n",
      "|IBA-1|        10|López Pérez Megha...|          11|           9|       7|        7|        7|       7|         8|        6|       7|          4|         73|\n",
      "|IBA-1|        11|MARÍA FERNANDA MÉ...|           9|          12|       8|        6|        7|      10|         5|        7|       8|          7|         79|\n",
      "|IBA-1|        12|Patiño Briseño Ce...|           3|           8|       6|       10|        5|       1|         6|        5|       8|          8|         60|\n",
      "|IBA-1|        13|Peña Anaya Azul V...|          12|          12|       8|        7|       10|       9|         7|        6|       9|         10|         90|\n",
      "|IBA-1|        14|Sánchez Álvarez M...|          10|           9|       7|        3|        3|       6|         6|        7|       6|          6|         63|\n",
      "|IBA-1|        15|Santaella Sandova...|          11|           8|       7|        9|       10|       7|         3|       11|      10|          8|         84|\n",
      "|IBA-3|         2|Beltran Avalos Ju...|          13|           9|       9|        7|       10|       8|         4|        7|       9|          9|         85|\n",
      "|IBA-3|         3|Castañeda Torres ...|          12|           8|       6|        4|        8|       9|         6|        5|       6|          6|         70|\n",
      "|IBA-3|         4|Castillo Santos P...|          12|          12|       9|        8|        8|       6|         3|        8|      10|          9|         85|\n",
      "|IBA-3|         5|angel eduardo cha...|           6|          12|       7|        5|        4|       8|         4|        6|       2|          6|         60|\n",
      "+-----+----------+--------------------+------------+------------+--------+---------+---------+--------+----------+---------+--------+-----------+-----------+\n",
      "only showing top 20 rows\n",
      "\n"
     ]
    }
   ],
   "source": [
    "training.show()"
   ]
  },
  {
   "cell_type": "code",
   "execution_count": 90,
   "id": "30f24d5c",
   "metadata": {},
   "outputs": [
    {
     "name": "stdout",
     "output_type": "stream",
     "text": [
      "root\n",
      " |-- Grupo: string (nullable = true)\n",
      " |-- N DE LISTA: integer (nullable = true)\n",
      " |-- NOMBRE: string (nullable = true)\n",
      " |-- H. VBAL (16): integer (nullable = true)\n",
      " |-- H. MATE (16): integer (nullable = true)\n",
      " |-- ESP (12): integer (nullable = true)\n",
      " |-- MATE (12): integer (nullable = true)\n",
      " |-- HIST (12): integer (nullable = true)\n",
      " |-- GEO (12): integer (nullable = true)\n",
      " |-- CÍVICA(12): integer (nullable = true)\n",
      " |-- QUÍM (12): integer (nullable = true)\n",
      " |-- BIO (12): integer (nullable = true)\n",
      " |-- FÍSICA (12): integer (nullable = true)\n",
      " |-- TOTAL (128): integer (nullable = true)\n",
      "\n"
     ]
    }
   ],
   "source": [
    "training.printSchema()"
   ]
  },
  {
   "cell_type": "code",
   "execution_count": 91,
   "id": "7a6b0db6",
   "metadata": {},
   "outputs": [
    {
     "data": {
      "text/plain": [
       "['Grupo',\n",
       " 'N DE LISTA',\n",
       " 'NOMBRE',\n",
       " 'H. VBAL (16)',\n",
       " 'H. MATE (16)',\n",
       " 'ESP (12)',\n",
       " 'MATE (12)',\n",
       " 'HIST (12)',\n",
       " 'GEO (12)',\n",
       " 'CÍVICA(12)',\n",
       " 'QUÍM (12)',\n",
       " 'BIO (12)',\n",
       " 'FÍSICA (12)',\n",
       " 'TOTAL (128)']"
      ]
     },
     "execution_count": 91,
     "metadata": {},
     "output_type": "execute_result"
    }
   ],
   "source": [
    "training.columns"
   ]
  },
  {
   "cell_type": "code",
   "execution_count": 92,
   "id": "8d8155f5",
   "metadata": {},
   "outputs": [
    {
     "name": "stdout",
     "output_type": "stream",
     "text": [
      "+-----+-----+--------------------+-------+-----+---+----+----+---+---+---+---+---+-----+\n",
      "|grupo|lista|              nombre|hverbal|hmate|esp|mate|hist|geo|civ|qui|bio|fis|total|\n",
      "+-----+-----+--------------------+-------+-----+---+----+----+---+---+---+---+---+-----+\n",
      "|IBA-0|    0|                CED |     16|   16| 12|  12|  12| 12| 12| 12| 12| 12|  128|\n",
      "|IBA-1|    1|Diaz Becerril Fer...|      9|    3|  8|   2|   5|  1|  5|  8|  8|  6|   55|\n",
      "|IBA-1|    2|Rodrigo Esquivel ...|      9|   11|  7|   4|   2|  7|  4|  5|  6|  6|   61|\n",
      "|IBA-1|    3|flores mendoza arely|     10|    9|  6|   5|   3|  7|  4|  7|  8|  4|   63|\n",
      "|IBA-1|    4|Garcia Gonzalez P...|     13|   11| 10|   8|   7|  9|  7|  9|  8| 11|   93|\n",
      "|IBA-1|    5|García Salazar Ab...|     11|   10| 11|   8|   6|  7|  8|  5|  9|  5|   80|\n",
      "|IBA-1|    6|Jesús González Ca...|      6|   15|  7|   5|   8| 11|  6| 10|  7| 10|   85|\n",
      "|IBA-1|    7|Hernández Ramos B...|     10|   11|  7|   7|   4|  9|  7|  9|  8|  9|   81|\n",
      "|IBA-1|    8|Jiménez Zaragoza ...|     11|   12|  8|   7|   8|  9|  5|  4| 11|  9|   84|\n",
      "|IBA-1|    9|Andrea Naomi Lira...|     11|   10|  8|   5|   5|  6|  7|  5|  8|  8|   73|\n",
      "|IBA-1|   10|López Pérez Megha...|     11|    9|  7|   7|   7|  7|  8|  6|  7|  4|   73|\n",
      "|IBA-1|   11|MARÍA FERNANDA MÉ...|      9|   12|  8|   6|   7| 10|  5|  7|  8|  7|   79|\n",
      "|IBA-1|   12|Patiño Briseño Ce...|      3|    8|  6|  10|   5|  1|  6|  5|  8|  8|   60|\n",
      "|IBA-1|   13|Peña Anaya Azul V...|     12|   12|  8|   7|  10|  9|  7|  6|  9| 10|   90|\n",
      "|IBA-1|   14|Sánchez Álvarez M...|     10|    9|  7|   3|   3|  6|  6|  7|  6|  6|   63|\n",
      "|IBA-1|   15|Santaella Sandova...|     11|    8|  7|   9|  10|  7|  3| 11| 10|  8|   84|\n",
      "|IBA-3|    2|Beltran Avalos Ju...|     13|    9|  9|   7|  10|  8|  4|  7|  9|  9|   85|\n",
      "|IBA-3|    3|Castañeda Torres ...|     12|    8|  6|   4|   8|  9|  6|  5|  6|  6|   70|\n",
      "|IBA-3|    4|Castillo Santos P...|     12|   12|  9|   8|   8|  6|  3|  8| 10|  9|   85|\n",
      "|IBA-3|    5|angel eduardo cha...|      6|   12|  7|   5|   4|  8|  4|  6|  2|  6|   60|\n",
      "+-----+-----+--------------------+-------+-----+---+----+----+---+---+---+---+---+-----+\n",
      "only showing top 20 rows\n",
      "\n"
     ]
    }
   ],
   "source": [
    "#[Hverbal, Hmate, Esp, Mate, Hist, Geo, Civ, Qui, Bio, Fis] ----> new feature ---> independent feature\n",
    "from pyspark.sql.functions import col\n",
    "import os\n",
    "training=training.withColumnRenamed('H. VBAL (16)', 'Hverbal')\n",
    "training=training.withColumnRenamed('H. MATE (16)', 'Hmate')\n",
    "nuevosNombres= [(\"Grupo\",\"grupo\"),\n",
    "                (\"N DE LISTA\",\"lista\"),\n",
    "                (\"NOMBRE\",\"nombre\"),\n",
    "                ('Hverbal', \"hverbal\"),\n",
    "                (\"Hmate\",\"hmate\"),\n",
    "                (\"ESP (12)\",\"esp\"),\n",
    "                (\"MATE (12)\",\"mate\"),\n",
    "                (\"HIST (12)\",\"hist\"),\n",
    "                (\"GEO (12)\",\"geo\"),\n",
    "                (\"CÍVICA(12)\",\"civ\"),\n",
    "                (\"QUÍM (12)\",\"qui\"),\n",
    "                (\"BIO (12)\",\"bio\"),\n",
    "                (\"FÍSICA (12)\",\"fis\"),\n",
    "                (\"TOTAL (128)\",\"total\")]\n",
    "type(nuevosNombres)\n",
    "\n",
    "columnExprs = [col(elem[0]).alias(elem[1]) for elem in nuevosNombres]\n",
    "type(columnExprs)\n",
    "columnExprs\n",
    "\n",
    "transformed_training=training.select(*columnExprs)\n",
    "type(transformed_training)\n",
    "transformed_training.show()"
   ]
  },
  {
   "cell_type": "code",
   "execution_count": 93,
   "id": "287bc924",
   "metadata": {},
   "outputs": [
    {
     "name": "stdout",
     "output_type": "stream",
     "text": [
      "+-----+-----+--------------------+-------+-----+---+----+----+---+---+---+---+---+-----+\n",
      "|grupo|lista|              nombre|hverbal|hmate|esp|mate|hist|geo|civ|qui|bio|fis|total|\n",
      "+-----+-----+--------------------+-------+-----+---+----+----+---+---+---+---+---+-----+\n",
      "|IBA-0|    0|                CED |     16|   16| 12|  12|  12| 12| 12| 12| 12| 12|  128|\n",
      "|IBA-1|    1|Diaz Becerril Fer...|      9|    3|  8|   2|   5|  1|  5|  8|  8|  6|   55|\n",
      "|IBA-1|    2|Rodrigo Esquivel ...|      9|   11|  7|   4|   2|  7|  4|  5|  6|  6|   61|\n",
      "|IBA-1|    3|flores mendoza arely|     10|    9|  6|   5|   3|  7|  4|  7|  8|  4|   63|\n",
      "|IBA-1|    4|Garcia Gonzalez P...|     13|   11| 10|   8|   7|  9|  7|  9|  8| 11|   93|\n",
      "|IBA-1|    5|García Salazar Ab...|     11|   10| 11|   8|   6|  7|  8|  5|  9|  5|   80|\n",
      "|IBA-1|    6|Jesús González Ca...|      6|   15|  7|   5|   8| 11|  6| 10|  7| 10|   85|\n",
      "|IBA-1|    7|Hernández Ramos B...|     10|   11|  7|   7|   4|  9|  7|  9|  8|  9|   81|\n",
      "|IBA-1|    8|Jiménez Zaragoza ...|     11|   12|  8|   7|   8|  9|  5|  4| 11|  9|   84|\n",
      "|IBA-1|    9|Andrea Naomi Lira...|     11|   10|  8|   5|   5|  6|  7|  5|  8|  8|   73|\n",
      "|IBA-1|   10|López Pérez Megha...|     11|    9|  7|   7|   7|  7|  8|  6|  7|  4|   73|\n",
      "|IBA-1|   11|MARÍA FERNANDA MÉ...|      9|   12|  8|   6|   7| 10|  5|  7|  8|  7|   79|\n",
      "|IBA-1|   12|Patiño Briseño Ce...|      3|    8|  6|  10|   5|  1|  6|  5|  8|  8|   60|\n",
      "|IBA-1|   13|Peña Anaya Azul V...|     12|   12|  8|   7|  10|  9|  7|  6|  9| 10|   90|\n",
      "|IBA-1|   14|Sánchez Álvarez M...|     10|    9|  7|   3|   3|  6|  6|  7|  6|  6|   63|\n",
      "|IBA-1|   15|Santaella Sandova...|     11|    8|  7|   9|  10|  7|  3| 11| 10|  8|   84|\n",
      "|IBA-3|    2|Beltran Avalos Ju...|     13|    9|  9|   7|  10|  8|  4|  7|  9|  9|   85|\n",
      "|IBA-3|    3|Castañeda Torres ...|     12|    8|  6|   4|   8|  9|  6|  5|  6|  6|   70|\n",
      "|IBA-3|    4|Castillo Santos P...|     12|   12|  9|   8|   8|  6|  3|  8| 10|  9|   85|\n",
      "|IBA-3|    5|angel eduardo cha...|      6|   12|  7|   5|   4|  8|  4|  6|  2|  6|   60|\n",
      "+-----+-----+--------------------+-------+-----+---+----+----+---+---+---+---+---+-----+\n",
      "only showing top 20 rows\n",
      "\n"
     ]
    }
   ],
   "source": [
    "training=transformed_training\n",
    "training.show()"
   ]
  },
  {
   "cell_type": "code",
   "execution_count": 94,
   "id": "17e5caa8",
   "metadata": {},
   "outputs": [],
   "source": [
    "from pyspark.ml.feature import VectorAssembler\n",
    "\n",
    "featureAssembler = VectorAssembler(inputCols = ['hverbal', 'hmate', 'esp', 'mate', 'hist', 'geo', 'civ', 'qui', 'bio', 'fis'], outputCol = \"Independent Features\")"
   ]
  },
  {
   "cell_type": "code",
   "execution_count": 95,
   "id": "59f4d97b",
   "metadata": {},
   "outputs": [],
   "source": [
    "output = featureAssembler.transform(training)"
   ]
  },
  {
   "cell_type": "code",
   "execution_count": 96,
   "id": "b947478a",
   "metadata": {},
   "outputs": [
    {
     "name": "stdout",
     "output_type": "stream",
     "text": [
      "+-----+-----+--------------------+-------+-----+---+----+----+---+---+---+---+---+-----+--------------------+\n",
      "|grupo|lista|              nombre|hverbal|hmate|esp|mate|hist|geo|civ|qui|bio|fis|total|Independent Features|\n",
      "+-----+-----+--------------------+-------+-----+---+----+----+---+---+---+---+---+-----+--------------------+\n",
      "|IBA-0|    0|                CED |     16|   16| 12|  12|  12| 12| 12| 12| 12| 12|  128|[16.0,16.0,12.0,1...|\n",
      "|IBA-1|    1|Diaz Becerril Fer...|      9|    3|  8|   2|   5|  1|  5|  8|  8|  6|   55|[9.0,3.0,8.0,2.0,...|\n",
      "|IBA-1|    2|Rodrigo Esquivel ...|      9|   11|  7|   4|   2|  7|  4|  5|  6|  6|   61|[9.0,11.0,7.0,4.0...|\n",
      "|IBA-1|    3|flores mendoza arely|     10|    9|  6|   5|   3|  7|  4|  7|  8|  4|   63|[10.0,9.0,6.0,5.0...|\n",
      "|IBA-1|    4|Garcia Gonzalez P...|     13|   11| 10|   8|   7|  9|  7|  9|  8| 11|   93|[13.0,11.0,10.0,8...|\n",
      "|IBA-1|    5|García Salazar Ab...|     11|   10| 11|   8|   6|  7|  8|  5|  9|  5|   80|[11.0,10.0,11.0,8...|\n",
      "|IBA-1|    6|Jesús González Ca...|      6|   15|  7|   5|   8| 11|  6| 10|  7| 10|   85|[6.0,15.0,7.0,5.0...|\n",
      "|IBA-1|    7|Hernández Ramos B...|     10|   11|  7|   7|   4|  9|  7|  9|  8|  9|   81|[10.0,11.0,7.0,7....|\n",
      "|IBA-1|    8|Jiménez Zaragoza ...|     11|   12|  8|   7|   8|  9|  5|  4| 11|  9|   84|[11.0,12.0,8.0,7....|\n",
      "|IBA-1|    9|Andrea Naomi Lira...|     11|   10|  8|   5|   5|  6|  7|  5|  8|  8|   73|[11.0,10.0,8.0,5....|\n",
      "|IBA-1|   10|López Pérez Megha...|     11|    9|  7|   7|   7|  7|  8|  6|  7|  4|   73|[11.0,9.0,7.0,7.0...|\n",
      "|IBA-1|   11|MARÍA FERNANDA MÉ...|      9|   12|  8|   6|   7| 10|  5|  7|  8|  7|   79|[9.0,12.0,8.0,6.0...|\n",
      "|IBA-1|   12|Patiño Briseño Ce...|      3|    8|  6|  10|   5|  1|  6|  5|  8|  8|   60|[3.0,8.0,6.0,10.0...|\n",
      "|IBA-1|   13|Peña Anaya Azul V...|     12|   12|  8|   7|  10|  9|  7|  6|  9| 10|   90|[12.0,12.0,8.0,7....|\n",
      "|IBA-1|   14|Sánchez Álvarez M...|     10|    9|  7|   3|   3|  6|  6|  7|  6|  6|   63|[10.0,9.0,7.0,3.0...|\n",
      "|IBA-1|   15|Santaella Sandova...|     11|    8|  7|   9|  10|  7|  3| 11| 10|  8|   84|[11.0,8.0,7.0,9.0...|\n",
      "|IBA-3|    2|Beltran Avalos Ju...|     13|    9|  9|   7|  10|  8|  4|  7|  9|  9|   85|[13.0,9.0,9.0,7.0...|\n",
      "|IBA-3|    3|Castañeda Torres ...|     12|    8|  6|   4|   8|  9|  6|  5|  6|  6|   70|[12.0,8.0,6.0,4.0...|\n",
      "|IBA-3|    4|Castillo Santos P...|     12|   12|  9|   8|   8|  6|  3|  8| 10|  9|   85|[12.0,12.0,9.0,8....|\n",
      "|IBA-3|    5|angel eduardo cha...|      6|   12|  7|   5|   4|  8|  4|  6|  2|  6|   60|[6.0,12.0,7.0,5.0...|\n",
      "+-----+-----+--------------------+-------+-----+---+----+----+---+---+---+---+---+-----+--------------------+\n",
      "only showing top 20 rows\n",
      "\n"
     ]
    }
   ],
   "source": [
    "output.show()"
   ]
  },
  {
   "cell_type": "code",
   "execution_count": 97,
   "id": "86cd4b2b",
   "metadata": {},
   "outputs": [
    {
     "data": {
      "text/plain": [
       "['grupo',\n",
       " 'lista',\n",
       " 'nombre',\n",
       " 'hverbal',\n",
       " 'hmate',\n",
       " 'esp',\n",
       " 'mate',\n",
       " 'hist',\n",
       " 'geo',\n",
       " 'civ',\n",
       " 'qui',\n",
       " 'bio',\n",
       " 'fis',\n",
       " 'total',\n",
       " 'Independent Features']"
      ]
     },
     "execution_count": 97,
     "metadata": {},
     "output_type": "execute_result"
    }
   ],
   "source": [
    "output.columns"
   ]
  },
  {
   "cell_type": "code",
   "execution_count": 98,
   "id": "1832f01d",
   "metadata": {},
   "outputs": [
    {
     "name": "stdout",
     "output_type": "stream",
     "text": [
      "+--------------------+-----+\n",
      "|Independent Features|total|\n",
      "+--------------------+-----+\n",
      "|[16.0,16.0,12.0,1...|  128|\n",
      "|[9.0,3.0,8.0,2.0,...|   55|\n",
      "|[9.0,11.0,7.0,4.0...|   61|\n",
      "|[10.0,9.0,6.0,5.0...|   63|\n",
      "|[13.0,11.0,10.0,8...|   93|\n",
      "|[11.0,10.0,11.0,8...|   80|\n",
      "|[6.0,15.0,7.0,5.0...|   85|\n",
      "|[10.0,11.0,7.0,7....|   81|\n",
      "|[11.0,12.0,8.0,7....|   84|\n",
      "|[11.0,10.0,8.0,5....|   73|\n",
      "|[11.0,9.0,7.0,7.0...|   73|\n",
      "|[9.0,12.0,8.0,6.0...|   79|\n",
      "|[3.0,8.0,6.0,10.0...|   60|\n",
      "|[12.0,12.0,8.0,7....|   90|\n",
      "|[10.0,9.0,7.0,3.0...|   63|\n",
      "|[11.0,8.0,7.0,9.0...|   84|\n",
      "|[13.0,9.0,9.0,7.0...|   85|\n",
      "|[12.0,8.0,6.0,4.0...|   70|\n",
      "|[12.0,12.0,9.0,8....|   85|\n",
      "|[6.0,12.0,7.0,5.0...|   60|\n",
      "+--------------------+-----+\n",
      "only showing top 20 rows\n",
      "\n"
     ]
    }
   ],
   "source": [
    "finalized_data= output.select(\"Independent Features\", \"total\")\n",
    "finalized_data.show()"
   ]
  },
  {
   "cell_type": "code",
   "execution_count": 100,
   "id": "ada451d4",
   "metadata": {},
   "outputs": [],
   "source": [
    "from pyspark.ml.regression import LinearRegression\n",
    "train_data, test_data = finalized_data.randomSplit([0.75,0.25])\n",
    "regressor = LinearRegression(featuresCol='Independent Features', labelCol='total')\n",
    "regressor = regressor.fit(train_data)"
   ]
  },
  {
   "cell_type": "code",
   "execution_count": 102,
   "id": "e414217b",
   "metadata": {},
   "outputs": [
    {
     "data": {
      "text/plain": [
       "DenseVector([1.0, 1.0, 1.0, 1.0, 1.0, 1.0, 1.0, 1.0, 1.0, 1.0])"
      ]
     },
     "execution_count": 102,
     "metadata": {},
     "output_type": "execute_result"
    }
   ],
   "source": [
    "regressor.coefficients"
   ]
  },
  {
   "cell_type": "code",
   "execution_count": 103,
   "id": "dae3c30a",
   "metadata": {},
   "outputs": [
    {
     "data": {
      "text/plain": [
       "4.3514200651397396e-13"
      ]
     },
     "execution_count": 103,
     "metadata": {},
     "output_type": "execute_result"
    }
   ],
   "source": [
    "regressor.intercept"
   ]
  },
  {
   "cell_type": "code",
   "execution_count": 104,
   "id": "d12a1e6e",
   "metadata": {},
   "outputs": [],
   "source": [
    "# prediccion\n",
    "pred_results = regressor.evaluate(test_data)"
   ]
  },
  {
   "cell_type": "code",
   "execution_count": 105,
   "id": "7e0059b6",
   "metadata": {},
   "outputs": [
    {
     "name": "stdout",
     "output_type": "stream",
     "text": [
      "+--------------------+-----+-----------------+\n",
      "|Independent Features|total|       prediction|\n",
      "+--------------------+-----+-----------------+\n",
      "|[7.0,8.0,8.0,6.0,...|   79|78.99999999999997|\n",
      "|[9.0,11.0,4.0,8.0...|   77|76.99999999999993|\n",
      "|[9.0,11.0,7.0,4.0...|   61|61.00000000000033|\n",
      "|[10.0,7.0,6.0,4.0...|   66|66.00000000000016|\n",
      "|[10.0,9.0,6.0,5.0...|   63|63.00000000000013|\n",
      "|[10.0,9.0,7.0,3.0...|   63|63.00000000000034|\n",
      "|[10.0,11.0,7.0,7....|   81|81.00000000000021|\n",
      "|[10.0,12.0,7.0,6....|   83|83.00000000000009|\n",
      "|[10.0,13.0,8.0,5....|   78| 77.9999999999999|\n",
      "|[11.0,7.0,8.0,9.0...|   69|69.00000000000004|\n",
      "|[11.0,8.0,7.0,9.0...|   84|83.99999999999976|\n",
      "|[11.0,10.0,8.0,8....|   91|90.99999999999997|\n",
      "|[11.0,15.0,10.0,8...|  102|101.9999999999999|\n",
      "|[12.0,13.0,8.0,9....|   97|97.00000000000011|\n",
      "+--------------------+-----+-----------------+\n",
      "\n"
     ]
    },
    {
     "name": "stderr",
     "output_type": "stream",
     "text": [
      "C:\\ProgramData\\Anaconda3\\lib\\site-packages\\pyspark\\sql\\context.py:125: FutureWarning: Deprecated in 3.0.0. Use SparkSession.builder.getOrCreate() instead.\n",
      "  warnings.warn(\n"
     ]
    }
   ],
   "source": [
    "pred_results.predictions.show()"
   ]
  },
  {
   "cell_type": "code",
   "execution_count": 106,
   "id": "bfe64fb9",
   "metadata": {},
   "outputs": [
    {
     "data": {
      "text/plain": [
       "(1.4109348610093418e-13, 2.972968824064924e-26)"
      ]
     },
     "execution_count": 106,
     "metadata": {},
     "output_type": "execute_result"
    }
   ],
   "source": [
    "pred_results.meanAbsoluteError, pred_results.meanSquaredError"
   ]
  }
 ],
 "metadata": {
  "kernelspec": {
   "display_name": "Python 3 (ipykernel)",
   "language": "python",
   "name": "python3"
  },
  "language_info": {
   "codemirror_mode": {
    "name": "ipython",
    "version": 3
   },
   "file_extension": ".py",
   "mimetype": "text/x-python",
   "name": "python",
   "nbconvert_exporter": "python",
   "pygments_lexer": "ipython3",
   "version": "3.9.7"
  }
 },
 "nbformat": 4,
 "nbformat_minor": 5
}
