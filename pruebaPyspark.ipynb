{
 "cells": [
  {
   "cell_type": "code",
   "execution_count": 2,
   "id": "78263886",
   "metadata": {},
   "outputs": [
    {
     "name": "stdout",
     "output_type": "stream",
     "text": [
      "Requirement already satisfied: pyspark in c:\\programdata\\anaconda3\\lib\\site-packages (3.2.1)\n",
      "Requirement already satisfied: py4j==0.10.9.3 in c:\\programdata\\anaconda3\\lib\\site-packages (from pyspark) (0.10.9.3)\n"
     ]
    }
   ],
   "source": [
    "!pip install pyspark"
   ]
  },
  {
   "cell_type": "code",
   "execution_count": 3,
   "id": "7ef1cf1a",
   "metadata": {},
   "outputs": [],
   "source": [
    "import pyspark"
   ]
  },
  {
   "cell_type": "code",
   "execution_count": 4,
   "id": "88e3c4bd",
   "metadata": {},
   "outputs": [
    {
     "data": {
      "text/html": [
       "<div>\n",
       "<style scoped>\n",
       "    .dataframe tbody tr th:only-of-type {\n",
       "        vertical-align: middle;\n",
       "    }\n",
       "\n",
       "    .dataframe tbody tr th {\n",
       "        vertical-align: top;\n",
       "    }\n",
       "\n",
       "    .dataframe thead th {\n",
       "        text-align: right;\n",
       "    }\n",
       "</style>\n",
       "<table border=\"1\" class=\"dataframe\">\n",
       "  <thead>\n",
       "    <tr style=\"text-align: right;\">\n",
       "      <th></th>\n",
       "      <th>21A_Pr</th>\n",
       "      <th>21A_Es</th>\n",
       "      <th>21A_Ma</th>\n",
       "      <th>21A_Es_Di</th>\n",
       "    </tr>\n",
       "  </thead>\n",
       "  <tbody>\n",
       "    <tr>\n",
       "      <th>0</th>\n",
       "      <td>1.0</td>\n",
       "      <td>0.500000</td>\n",
       "      <td>HMate</td>\n",
       "      <td>4</td>\n",
       "    </tr>\n",
       "    <tr>\n",
       "      <th>1</th>\n",
       "      <td>2.0</td>\n",
       "      <td>0.226190</td>\n",
       "      <td>HMate</td>\n",
       "      <td>5</td>\n",
       "    </tr>\n",
       "    <tr>\n",
       "      <th>2</th>\n",
       "      <td>3.0</td>\n",
       "      <td>0.273810</td>\n",
       "      <td>HMate</td>\n",
       "      <td>5</td>\n",
       "    </tr>\n",
       "    <tr>\n",
       "      <th>3</th>\n",
       "      <td>4.0</td>\n",
       "      <td>0.297619</td>\n",
       "      <td>HMate</td>\n",
       "      <td>5</td>\n",
       "    </tr>\n",
       "    <tr>\n",
       "      <th>4</th>\n",
       "      <td>5.0</td>\n",
       "      <td>0.678571</td>\n",
       "      <td>HMate</td>\n",
       "      <td>3</td>\n",
       "    </tr>\n",
       "    <tr>\n",
       "      <th>...</th>\n",
       "      <td>...</td>\n",
       "      <td>...</td>\n",
       "      <td>...</td>\n",
       "      <td>...</td>\n",
       "    </tr>\n",
       "    <tr>\n",
       "      <th>126</th>\n",
       "      <td>127.0</td>\n",
       "      <td>0.238095</td>\n",
       "      <td>Qui</td>\n",
       "      <td>5</td>\n",
       "    </tr>\n",
       "    <tr>\n",
       "      <th>127</th>\n",
       "      <td>128.0</td>\n",
       "      <td>0.309524</td>\n",
       "      <td>Qui</td>\n",
       "      <td>5</td>\n",
       "    </tr>\n",
       "    <tr>\n",
       "      <th>128</th>\n",
       "      <td>129.0</td>\n",
       "      <td>NaN</td>\n",
       "      <td>Light</td>\n",
       "      <td>4</td>\n",
       "    </tr>\n",
       "    <tr>\n",
       "      <th>129</th>\n",
       "      <td>NaN</td>\n",
       "      <td>0.345320</td>\n",
       "      <td>Light</td>\n",
       "      <td>5</td>\n",
       "    </tr>\n",
       "    <tr>\n",
       "      <th>130</th>\n",
       "      <td>131.0</td>\n",
       "      <td>0.999990</td>\n",
       "      <td>NaN</td>\n",
       "      <td>1</td>\n",
       "    </tr>\n",
       "  </tbody>\n",
       "</table>\n",
       "<p>131 rows × 4 columns</p>\n",
       "</div>"
      ],
      "text/plain": [
       "     21A_Pr    21A_Es 21A_Ma  21A_Es_Di\n",
       "0       1.0  0.500000  HMate          4\n",
       "1       2.0  0.226190  HMate          5\n",
       "2       3.0  0.273810  HMate          5\n",
       "3       4.0  0.297619  HMate          5\n",
       "4       5.0  0.678571  HMate          3\n",
       "..      ...       ...    ...        ...\n",
       "126   127.0  0.238095    Qui          5\n",
       "127   128.0  0.309524    Qui          5\n",
       "128   129.0       NaN  Light          4\n",
       "129     NaN  0.345320  Light          5\n",
       "130   131.0  0.999990    NaN          1\n",
       "\n",
       "[131 rows x 4 columns]"
      ]
     },
     "execution_count": 4,
     "metadata": {},
     "output_type": "execute_result"
    }
   ],
   "source": [
    "import pandas as pd\n",
    "pd.read_csv('pruebaDs.csv')"
   ]
  },
  {
   "cell_type": "code",
   "execution_count": 5,
   "id": "7e41b4fa",
   "metadata": {},
   "outputs": [],
   "source": [
    "from pyspark.sql import SparkSession"
   ]
  },
  {
   "cell_type": "code",
   "execution_count": 6,
   "id": "6ab853c8",
   "metadata": {},
   "outputs": [],
   "source": [
    "spark=SparkSession.builder.appName('pruebaPyspark').getOrCreate()"
   ]
  },
  {
   "cell_type": "code",
   "execution_count": 7,
   "id": "5629be6f",
   "metadata": {},
   "outputs": [
    {
     "data": {
      "text/html": [
       "\n",
       "            <div>\n",
       "                <p><b>SparkSession - in-memory</b></p>\n",
       "                \n",
       "        <div>\n",
       "            <p><b>SparkContext</b></p>\n",
       "\n",
       "            <p><a href=\"http://DESKTOP-PSQA9QR:4040\">Spark UI</a></p>\n",
       "\n",
       "            <dl>\n",
       "              <dt>Version</dt>\n",
       "                <dd><code>v3.2.1</code></dd>\n",
       "              <dt>Master</dt>\n",
       "                <dd><code>local[*]</code></dd>\n",
       "              <dt>AppName</dt>\n",
       "                <dd><code>pruebaPyspark</code></dd>\n",
       "            </dl>\n",
       "        </div>\n",
       "        \n",
       "            </div>\n",
       "        "
      ],
      "text/plain": [
       "<pyspark.sql.session.SparkSession at 0x22f9ff85040>"
      ]
     },
     "execution_count": 7,
     "metadata": {},
     "output_type": "execute_result"
    }
   ],
   "source": [
    "spark"
   ]
  },
  {
   "cell_type": "code",
   "execution_count": 8,
   "id": "fd0591b8",
   "metadata": {},
   "outputs": [],
   "source": [
    "df_pyspark=spark.read.csv('pruebaDs.csv')"
   ]
  },
  {
   "cell_type": "code",
   "execution_count": 9,
   "id": "1c293538",
   "metadata": {},
   "outputs": [
    {
     "name": "stdout",
     "output_type": "stream",
     "text": [
      "+------+-----------+-------+---------+\n",
      "|   _c0|        _c1|    _c2|      _c3|\n",
      "+------+-----------+-------+---------+\n",
      "|21A_Pr|     21A_Es| 21A_Ma|21A_Es_Di|\n",
      "|     1|        0.5|  HMate|        4|\n",
      "|     2|0.226190476|  HMate|        5|\n",
      "|     3|0.273809524|  HMate|        5|\n",
      "|     4|0.297619048|  HMate|        5|\n",
      "|     5|0.678571429|  HMate|        3|\n",
      "|     6| 0.69047619|  HMate|        3|\n",
      "|     7|0.607142857|  HMate|        3|\n",
      "|     8|0.285714286|  HMate|        5|\n",
      "|     9| 0.44047619|  HMate|        4|\n",
      "|    10|0.345238095|  HMate|        4|\n",
      "|    11|0.178571429|  HMate|        5|\n",
      "|    12|0.785714286|  HMate|        2|\n",
      "|    13|0.404761905|  HMate|        4|\n",
      "|    14|0.476190476|  HMate|        4|\n",
      "|    15|0.333333333|  HMate|        5|\n",
      "|    16|0.666666667|  HMate|        3|\n",
      "|    17|0.380952381|HVerbal|        4|\n",
      "|    18|0.797619048|HVerbal|        2|\n",
      "|    19|0.535714286|HVerbal|        3|\n",
      "+------+-----------+-------+---------+\n",
      "only showing top 20 rows\n",
      "\n"
     ]
    }
   ],
   "source": [
    "df_pyspark.show()"
   ]
  },
  {
   "cell_type": "code",
   "execution_count": 10,
   "id": "852ff17b",
   "metadata": {},
   "outputs": [],
   "source": [
    "df_pyspark=spark.read.option('header','true').csv('pruebaDs.csv')"
   ]
  },
  {
   "cell_type": "code",
   "execution_count": 11,
   "id": "f7d3a6f2",
   "metadata": {},
   "outputs": [
    {
     "data": {
      "text/plain": [
       "pyspark.sql.dataframe.DataFrame"
      ]
     },
     "execution_count": 11,
     "metadata": {},
     "output_type": "execute_result"
    }
   ],
   "source": [
    "type(df_pyspark)"
   ]
  },
  {
   "cell_type": "code",
   "execution_count": 12,
   "id": "000fa7ef",
   "metadata": {},
   "outputs": [
    {
     "data": {
      "text/plain": [
       "[Row(21A_Pr='1', 21A_Es='0.5', 21A_Ma='HMate', 21A_Es_Di='4'),\n",
       " Row(21A_Pr='2', 21A_Es='0.226190476', 21A_Ma='HMate', 21A_Es_Di='5'),\n",
       " Row(21A_Pr='3', 21A_Es='0.273809524', 21A_Ma='HMate', 21A_Es_Di='5')]"
      ]
     },
     "execution_count": 12,
     "metadata": {},
     "output_type": "execute_result"
    }
   ],
   "source": [
    "df_pyspark.head(3)"
   ]
  },
  {
   "cell_type": "code",
   "execution_count": 13,
   "id": "5e0b2c13",
   "metadata": {},
   "outputs": [
    {
     "name": "stdout",
     "output_type": "stream",
     "text": [
      "root\n",
      " |-- 21A_Pr: string (nullable = true)\n",
      " |-- 21A_Es: string (nullable = true)\n",
      " |-- 21A_Ma: string (nullable = true)\n",
      " |-- 21A_Es_Di: string (nullable = true)\n",
      "\n"
     ]
    }
   ],
   "source": [
    "df_pyspark.printSchema()"
   ]
  },
  {
   "cell_type": "markdown",
   "id": "7cb99d49",
   "metadata": {},
   "source": [
    "## Parte 2"
   ]
  },
  {
   "cell_type": "code",
   "execution_count": 14,
   "id": "5be52251",
   "metadata": {},
   "outputs": [
    {
     "name": "stdout",
     "output_type": "stream",
     "text": [
      "+------+-----------+-------+---------+\n",
      "|21A_Pr|     21A_Es| 21A_Ma|21A_Es_Di|\n",
      "+------+-----------+-------+---------+\n",
      "|     1|        0.5|  HMate|        4|\n",
      "|     2|0.226190476|  HMate|        5|\n",
      "|     3|0.273809524|  HMate|        5|\n",
      "|     4|0.297619048|  HMate|        5|\n",
      "|     5|0.678571429|  HMate|        3|\n",
      "|     6| 0.69047619|  HMate|        3|\n",
      "|     7|0.607142857|  HMate|        3|\n",
      "|     8|0.285714286|  HMate|        5|\n",
      "|     9| 0.44047619|  HMate|        4|\n",
      "|    10|0.345238095|  HMate|        4|\n",
      "|    11|0.178571429|  HMate|        5|\n",
      "|    12|0.785714286|  HMate|        2|\n",
      "|    13|0.404761905|  HMate|        4|\n",
      "|    14|0.476190476|  HMate|        4|\n",
      "|    15|0.333333333|  HMate|        5|\n",
      "|    16|0.666666667|  HMate|        3|\n",
      "|    17|0.380952381|HVerbal|        4|\n",
      "|    18|0.797619048|HVerbal|        2|\n",
      "|    19|0.535714286|HVerbal|        3|\n",
      "|    20|0.416666667|HVerbal|        4|\n",
      "+------+-----------+-------+---------+\n",
      "only showing top 20 rows\n",
      "\n"
     ]
    }
   ],
   "source": [
    "## leyendo el archivo\n",
    "##spark.read.option('header','true').csv('pruebaDs.csv')\n",
    "\n",
    "## inferir el tipo de dato\n",
    "df_pyspark=spark.read.option('header','true').csv('pruebaDs.csv', inferSchema=True)\n",
    "df_pyspark.show()"
   ]
  },
  {
   "cell_type": "code",
   "execution_count": 15,
   "id": "6d8e89c1",
   "metadata": {},
   "outputs": [
    {
     "name": "stdout",
     "output_type": "stream",
     "text": [
      "root\n",
      " |-- 21A_Pr: integer (nullable = true)\n",
      " |-- 21A_Es: double (nullable = true)\n",
      " |-- 21A_Ma: string (nullable = true)\n",
      " |-- 21A_Es_Di: integer (nullable = true)\n",
      "\n"
     ]
    }
   ],
   "source": [
    "#### check the schema, o sea los tipos\n",
    "df_pyspark.printSchema()"
   ]
  },
  {
   "cell_type": "code",
   "execution_count": 16,
   "id": "d64f1815",
   "metadata": {},
   "outputs": [
    {
     "data": {
      "text/plain": [
       "pyspark.sql.dataframe.DataFrame"
      ]
     },
     "execution_count": 16,
     "metadata": {},
     "output_type": "execute_result"
    }
   ],
   "source": [
    "type(df_pyspark)"
   ]
  },
  {
   "cell_type": "code",
   "execution_count": 17,
   "id": "f889e1d4",
   "metadata": {},
   "outputs": [
    {
     "data": {
      "text/plain": [
       "[Row(21A_Pr=1, 21A_Es=0.5, 21A_Ma='HMate', 21A_Es_Di=4),\n",
       " Row(21A_Pr=2, 21A_Es=0.226190476, 21A_Ma='HMate', 21A_Es_Di=5),\n",
       " Row(21A_Pr=3, 21A_Es=0.273809524, 21A_Ma='HMate', 21A_Es_Di=5)]"
      ]
     },
     "execution_count": 17,
     "metadata": {},
     "output_type": "execute_result"
    }
   ],
   "source": [
    "df_pyspark.head(3)"
   ]
  },
  {
   "cell_type": "code",
   "execution_count": 18,
   "id": "b4daf3e3",
   "metadata": {},
   "outputs": [
    {
     "name": "stdout",
     "output_type": "stream",
     "text": [
      "+-----------+-------+\n",
      "|     21a_Es| 21A_Ma|\n",
      "+-----------+-------+\n",
      "|        0.5|  HMate|\n",
      "|0.226190476|  HMate|\n",
      "|0.273809524|  HMate|\n",
      "|0.297619048|  HMate|\n",
      "|0.678571429|  HMate|\n",
      "| 0.69047619|  HMate|\n",
      "|0.607142857|  HMate|\n",
      "|0.285714286|  HMate|\n",
      "| 0.44047619|  HMate|\n",
      "|0.345238095|  HMate|\n",
      "|0.178571429|  HMate|\n",
      "|0.785714286|  HMate|\n",
      "|0.404761905|  HMate|\n",
      "|0.476190476|  HMate|\n",
      "|0.333333333|  HMate|\n",
      "|0.666666667|  HMate|\n",
      "|0.380952381|HVerbal|\n",
      "|0.797619048|HVerbal|\n",
      "|0.535714286|HVerbal|\n",
      "|0.416666667|HVerbal|\n",
      "+-----------+-------+\n",
      "only showing top 20 rows\n",
      "\n"
     ]
    }
   ],
   "source": [
    "#selecionando solo la columna\n",
    "df_pyspark.select(['21a_Es','21A_Ma']).show()"
   ]
  },
  {
   "cell_type": "code",
   "execution_count": 19,
   "id": "71b77bba",
   "metadata": {},
   "outputs": [
    {
     "data": {
      "text/plain": [
       "[('21A_Pr', 'int'),\n",
       " ('21A_Es', 'double'),\n",
       " ('21A_Ma', 'string'),\n",
       " ('21A_Es_Di', 'int')]"
      ]
     },
     "execution_count": 19,
     "metadata": {},
     "output_type": "execute_result"
    }
   ],
   "source": [
    "#similar al schema\n",
    "df_pyspark.dtypes"
   ]
  },
  {
   "cell_type": "code",
   "execution_count": 20,
   "id": "5c2e5279",
   "metadata": {},
   "outputs": [
    {
     "name": "stdout",
     "output_type": "stream",
     "text": [
      "+-------+-----------------+-------------------+------+------------------+\n",
      "|summary|           21A_Pr|             21A_Es|21A_Ma|         21A_Es_Di|\n",
      "+-------+-----------------+-------------------+------+------------------+\n",
      "|  count|              130|                130|   130|               131|\n",
      "|   mean|65.50769230769231|0.46346209160769236|  null|3.8244274809160306|\n",
      "| stddev|37.68520079519756|0.20550314757279575|  null| 1.105795335288896|\n",
      "|    min|                1|        0.047619048|   Bio|                 1|\n",
      "|    max|              131|            0.99999|   Qui|                 5|\n",
      "+-------+-----------------+-------------------+------+------------------+\n",
      "\n"
     ]
    }
   ],
   "source": [
    "df_pyspark.describe().show()"
   ]
  },
  {
   "cell_type": "code",
   "execution_count": 21,
   "id": "00906be6",
   "metadata": {},
   "outputs": [],
   "source": [
    "#### Agreggar columnas\n",
    "df_pyspark=df_pyspark.withColumn('Nueva',df_pyspark['21A_Pr']+1)"
   ]
  },
  {
   "cell_type": "code",
   "execution_count": 22,
   "id": "d592f741",
   "metadata": {},
   "outputs": [],
   "source": [
    "### Eliminar\n",
    "df_pyspark=df_pyspark.drop('Nueva')"
   ]
  },
  {
   "cell_type": "code",
   "execution_count": 23,
   "id": "b3a4af04",
   "metadata": {},
   "outputs": [
    {
     "name": "stdout",
     "output_type": "stream",
     "text": [
      "+------+-----------+-------+---------+\n",
      "|21A_Pr|     21A_Es| 21A_Ma|21A_Es_Di|\n",
      "+------+-----------+-------+---------+\n",
      "|     1|        0.5|  HMate|        4|\n",
      "|     2|0.226190476|  HMate|        5|\n",
      "|     3|0.273809524|  HMate|        5|\n",
      "|     4|0.297619048|  HMate|        5|\n",
      "|     5|0.678571429|  HMate|        3|\n",
      "|     6| 0.69047619|  HMate|        3|\n",
      "|     7|0.607142857|  HMate|        3|\n",
      "|     8|0.285714286|  HMate|        5|\n",
      "|     9| 0.44047619|  HMate|        4|\n",
      "|    10|0.345238095|  HMate|        4|\n",
      "|    11|0.178571429|  HMate|        5|\n",
      "|    12|0.785714286|  HMate|        2|\n",
      "|    13|0.404761905|  HMate|        4|\n",
      "|    14|0.476190476|  HMate|        4|\n",
      "|    15|0.333333333|  HMate|        5|\n",
      "|    16|0.666666667|  HMate|        3|\n",
      "|    17|0.380952381|HVerbal|        4|\n",
      "|    18|0.797619048|HVerbal|        2|\n",
      "|    19|0.535714286|HVerbal|        3|\n",
      "|    20|0.416666667|HVerbal|        4|\n",
      "+------+-----------+-------+---------+\n",
      "only showing top 20 rows\n",
      "\n"
     ]
    }
   ],
   "source": [
    "df_pyspark.show()"
   ]
  },
  {
   "cell_type": "code",
   "execution_count": 25,
   "id": "044f33ac",
   "metadata": {},
   "outputs": [
    {
     "data": {
      "text/plain": [
       "DataFrame[21A_Pr: int, 21A_Es: double, Materia: string, 21A_Es_Di: int]"
      ]
     },
     "execution_count": 25,
     "metadata": {},
     "output_type": "execute_result"
    }
   ],
   "source": [
    "### Renombrar la columna\n",
    "df_pyspark.withColumnRenamed('21A_Ma','Materia')"
   ]
  },
  {
   "cell_type": "markdown",
   "id": "5965322e",
   "metadata": {},
   "source": [
    "## Parte 3\n",
    "### Tratando con valores nulos"
   ]
  },
  {
   "cell_type": "code",
   "execution_count": 26,
   "id": "25afc0cd",
   "metadata": {},
   "outputs": [
    {
     "name": "stdout",
     "output_type": "stream",
     "text": [
      "+------+-----------+------+---------+\n",
      "|21A_Pr|     21A_Es|21A_Ma|21A_Es_Di|\n",
      "+------+-----------+------+---------+\n",
      "|   129|       null| Light|        4|\n",
      "|  null|    0.34532| Water|        5|\n",
      "|   131|    0.99999|  null|        1|\n",
      "|   132|      0.865|  Dark|     null|\n",
      "|   133|       null|  Fire|     null|\n",
      "|     1|        0.5| HMate|        4|\n",
      "|     2|0.226190476| HMate|        5|\n",
      "|     3|0.273809524| HMate|        5|\n",
      "|     4|0.297619048| HMate|        5|\n",
      "|     5|0.678571429| HMate|        3|\n",
      "|     6| 0.69047619| HMate|        3|\n",
      "|     7|0.607142857| HMate|        3|\n",
      "|     8|0.285714286| HMate|        5|\n",
      "|     9| 0.44047619| HMate|        4|\n",
      "|    10|0.345238095| HMate|        4|\n",
      "|    11|0.178571429| HMate|        5|\n",
      "|    12|0.785714286| HMate|        2|\n",
      "|    13|0.404761905| HMate|        4|\n",
      "|    14|0.476190476| HMate|        4|\n",
      "|    15|0.333333333| HMate|        5|\n",
      "+------+-----------+------+---------+\n",
      "only showing top 20 rows\n",
      "\n"
     ]
    }
   ],
   "source": [
    "spark.read.csv('pds2.csv',header=True, inferSchema=True).show()\n",
    "df_pyspark=spark.read.csv('pds2.csv',header=True, inferSchema=True)\n"
   ]
  },
  {
   "cell_type": "code",
   "execution_count": 27,
   "id": "def02bb9",
   "metadata": {},
   "outputs": [
    {
     "name": "stdout",
     "output_type": "stream",
     "text": [
      "+------+-----------+-------+---------+\n",
      "|21A_Pr|     21A_Es| 21A_Ma|21A_Es_Di|\n",
      "+------+-----------+-------+---------+\n",
      "|     1|        0.5|  HMate|        4|\n",
      "|     2|0.226190476|  HMate|        5|\n",
      "|     3|0.273809524|  HMate|        5|\n",
      "|     4|0.297619048|  HMate|        5|\n",
      "|     5|0.678571429|  HMate|        3|\n",
      "|     6| 0.69047619|  HMate|        3|\n",
      "|     7|0.607142857|  HMate|        3|\n",
      "|     8|0.285714286|  HMate|        5|\n",
      "|     9| 0.44047619|  HMate|        4|\n",
      "|    10|0.345238095|  HMate|        4|\n",
      "|    11|0.178571429|  HMate|        5|\n",
      "|    12|0.785714286|  HMate|        2|\n",
      "|    13|0.404761905|  HMate|        4|\n",
      "|    14|0.476190476|  HMate|        4|\n",
      "|    15|0.333333333|  HMate|        5|\n",
      "|    16|0.666666667|  HMate|        3|\n",
      "|    17|0.380952381|HVerbal|        4|\n",
      "|    18|0.797619048|HVerbal|        2|\n",
      "|    19|0.535714286|HVerbal|        3|\n",
      "|    20|0.416666667|HVerbal|        4|\n",
      "+------+-----------+-------+---------+\n",
      "only showing top 20 rows\n",
      "\n"
     ]
    }
   ],
   "source": [
    "df_pyspark.na.drop(how='any').show()"
   ]
  },
  {
   "cell_type": "code",
   "execution_count": 28,
   "id": "da109083",
   "metadata": {},
   "outputs": [
    {
     "name": "stdout",
     "output_type": "stream",
     "text": [
      "+------+-----------+------+---------+\n",
      "|21A_Pr|     21A_Es|21A_Ma|21A_Es_Di|\n",
      "+------+-----------+------+---------+\n",
      "|   129|       null| Light|        4|\n",
      "|  null|    0.34532| Water|        5|\n",
      "|   131|    0.99999|  null|        1|\n",
      "|   132|      0.865|  Dark|     null|\n",
      "|   133|       null|  Fire|     null|\n",
      "|     1|        0.5| HMate|        4|\n",
      "|     2|0.226190476| HMate|        5|\n",
      "|     3|0.273809524| HMate|        5|\n",
      "|     4|0.297619048| HMate|        5|\n",
      "|     5|0.678571429| HMate|        3|\n",
      "|     6| 0.69047619| HMate|        3|\n",
      "|     7|0.607142857| HMate|        3|\n",
      "|     8|0.285714286| HMate|        5|\n",
      "|     9| 0.44047619| HMate|        4|\n",
      "|    10|0.345238095| HMate|        4|\n",
      "|    11|0.178571429| HMate|        5|\n",
      "|    12|0.785714286| HMate|        2|\n",
      "|    13|0.404761905| HMate|        4|\n",
      "|    14|0.476190476| HMate|        4|\n",
      "|    15|0.333333333| HMate|        5|\n",
      "+------+-----------+------+---------+\n",
      "only showing top 20 rows\n",
      "\n"
     ]
    }
   ],
   "source": [
    "### thershold\n",
    "df_pyspark.na.drop(how='any', thresh=1).show()"
   ]
  },
  {
   "cell_type": "code",
   "execution_count": 29,
   "id": "e9300920",
   "metadata": {},
   "outputs": [
    {
     "name": "stdout",
     "output_type": "stream",
     "text": [
      "+------+-----------+-------+---------+\n",
      "|21A_Pr|     21A_Es| 21A_Ma|21A_Es_Di|\n",
      "+------+-----------+-------+---------+\n",
      "|   129|       null|  Light|        4|\n",
      "|  null|    0.34532|  Water|        5|\n",
      "|   131|    0.99999|   null|        1|\n",
      "|     1|        0.5|  HMate|        4|\n",
      "|     2|0.226190476|  HMate|        5|\n",
      "|     3|0.273809524|  HMate|        5|\n",
      "|     4|0.297619048|  HMate|        5|\n",
      "|     5|0.678571429|  HMate|        3|\n",
      "|     6| 0.69047619|  HMate|        3|\n",
      "|     7|0.607142857|  HMate|        3|\n",
      "|     8|0.285714286|  HMate|        5|\n",
      "|     9| 0.44047619|  HMate|        4|\n",
      "|    10|0.345238095|  HMate|        4|\n",
      "|    11|0.178571429|  HMate|        5|\n",
      "|    12|0.785714286|  HMate|        2|\n",
      "|    13|0.404761905|  HMate|        4|\n",
      "|    14|0.476190476|  HMate|        4|\n",
      "|    15|0.333333333|  HMate|        5|\n",
      "|    16|0.666666667|  HMate|        3|\n",
      "|    17|0.380952381|HVerbal|        4|\n",
      "+------+-----------+-------+---------+\n",
      "only showing top 20 rows\n",
      "\n"
     ]
    }
   ],
   "source": [
    "### thershold\n",
    "df_pyspark.na.drop(how='any',subset='21A_Es_Di').show()"
   ]
  },
  {
   "cell_type": "code",
   "execution_count": 30,
   "id": "8672b20a",
   "metadata": {},
   "outputs": [
    {
     "name": "stdout",
     "output_type": "stream",
     "text": [
      "+------+-----------+------+---------+\n",
      "|21A_Pr|     21A_Es|21A_Ma|21A_Es_Di|\n",
      "+------+-----------+------+---------+\n",
      "|   129|     1000.0| Light|        4|\n",
      "|  1000|    0.34532| Water|        5|\n",
      "|   131|    0.99999|  null|        1|\n",
      "|   132|      0.865|  Dark|     1000|\n",
      "|   133|     1000.0|  Fire|     1000|\n",
      "|     1|        0.5| HMate|        4|\n",
      "|     2|0.226190476| HMate|        5|\n",
      "|     3|0.273809524| HMate|        5|\n",
      "|     4|0.297619048| HMate|        5|\n",
      "|     5|0.678571429| HMate|        3|\n",
      "|     6| 0.69047619| HMate|        3|\n",
      "|     7|0.607142857| HMate|        3|\n",
      "|     8|0.285714286| HMate|        5|\n",
      "|     9| 0.44047619| HMate|        4|\n",
      "|    10|0.345238095| HMate|        4|\n",
      "|    11|0.178571429| HMate|        5|\n",
      "|    12|0.785714286| HMate|        2|\n",
      "|    13|0.404761905| HMate|        4|\n",
      "|    14|0.476190476| HMate|        4|\n",
      "|    15|0.333333333| HMate|        5|\n",
      "+------+-----------+------+---------+\n",
      "only showing top 20 rows\n",
      "\n",
      "+------+-----------+------+---------+\n",
      "|21A_Pr|     21A_Es|21A_Ma|21A_Es_Di|\n",
      "+------+-----------+------+---------+\n",
      "|   129|       null| Light|        4|\n",
      "|  null|    0.34532| Water|        5|\n",
      "|   131|    0.99999|   N/A|        1|\n",
      "|   132|      0.865|  Dark|     null|\n",
      "|   133|       null|  Fire|     null|\n",
      "|     1|        0.5| HMate|        4|\n",
      "|     2|0.226190476| HMate|        5|\n",
      "|     3|0.273809524| HMate|        5|\n",
      "|     4|0.297619048| HMate|        5|\n",
      "|     5|0.678571429| HMate|        3|\n",
      "|     6| 0.69047619| HMate|        3|\n",
      "|     7|0.607142857| HMate|        3|\n",
      "|     8|0.285714286| HMate|        5|\n",
      "|     9| 0.44047619| HMate|        4|\n",
      "|    10|0.345238095| HMate|        4|\n",
      "|    11|0.178571429| HMate|        5|\n",
      "|    12|0.785714286| HMate|        2|\n",
      "|    13|0.404761905| HMate|        4|\n",
      "|    14|0.476190476| HMate|        4|\n",
      "|    15|0.333333333| HMate|        5|\n",
      "+------+-----------+------+---------+\n",
      "only showing top 20 rows\n",
      "\n",
      "+------+-----------+------+---------+\n",
      "|21A_Pr|     21A_Es|21A_Ma|21A_Es_Di|\n",
      "+------+-----------+------+---------+\n",
      "|   129|       null| Light|        4|\n",
      "|  null|    0.34532| Water|        5|\n",
      "|   131|    0.99999|  null|        1|\n",
      "|   132|      0.865|  Dark|      999|\n",
      "|   133|       null|  Fire|      999|\n",
      "|     1|        0.5| HMate|        4|\n",
      "|     2|0.226190476| HMate|        5|\n",
      "|     3|0.273809524| HMate|        5|\n",
      "|     4|0.297619048| HMate|        5|\n",
      "|     5|0.678571429| HMate|        3|\n",
      "|     6| 0.69047619| HMate|        3|\n",
      "|     7|0.607142857| HMate|        3|\n",
      "|     8|0.285714286| HMate|        5|\n",
      "|     9| 0.44047619| HMate|        4|\n",
      "|    10|0.345238095| HMate|        4|\n",
      "|    11|0.178571429| HMate|        5|\n",
      "|    12|0.785714286| HMate|        2|\n",
      "|    13|0.404761905| HMate|        4|\n",
      "|    14|0.476190476| HMate|        4|\n",
      "|    15|0.333333333| HMate|        5|\n",
      "+------+-----------+------+---------+\n",
      "only showing top 20 rows\n",
      "\n"
     ]
    }
   ],
   "source": [
    "df_pyspark.na.fill(1000).show() ## Columnas con tipo de dato numerico (doble o enterlo)\n",
    "df_pyspark.na.fill(\"N/A\").show()  ## Coluimnas con tipo de dato string\n",
    "df_pyspark.na.fill(999,subset=\"21A_Es_Di\").show()  ## Columna especifica"
   ]
  },
  {
   "cell_type": "code",
   "execution_count": 31,
   "id": "4066ab0f",
   "metadata": {},
   "outputs": [],
   "source": [
    "from pyspark.ml.feature import Imputer\n",
    "\n",
    "imputer = Imputer( \n",
    "    inputCols=['21A_Pr','21A_Es_Di'],\n",
    "    outputCols=[\"{}_imputed\".format(c) for c in ['21A_Pr','21A_Es_Di'] ]\n",
    ").setStrategy(\"mean\")\n",
    "\n",
    "## Inversigar Imputer"
   ]
  },
  {
   "cell_type": "code",
   "execution_count": 32,
   "id": "3510be73",
   "metadata": {},
   "outputs": [
    {
     "name": "stdout",
     "output_type": "stream",
     "text": [
      "+------+-----------+------+---------+--------------+-----------------+\n",
      "|21A_Pr|     21A_Es|21A_Ma|21A_Es_Di|21A_Pr_imputed|21A_Es_Di_imputed|\n",
      "+------+-----------+------+---------+--------------+-----------------+\n",
      "|   129|       null| Light|        4|           129|                4|\n",
      "|  null|    0.34532| Water|        5|            66|                5|\n",
      "|   131|    0.99999|  null|        1|           131|                1|\n",
      "|   132|      0.865|  Dark|     null|           132|                3|\n",
      "|   133|       null|  Fire|     null|           133|                3|\n",
      "|     1|        0.5| HMate|        4|             1|                4|\n",
      "|     2|0.226190476| HMate|        5|             2|                5|\n",
      "|     3|0.273809524| HMate|        5|             3|                5|\n",
      "|     4|0.297619048| HMate|        5|             4|                5|\n",
      "|     5|0.678571429| HMate|        3|             5|                3|\n",
      "|     6| 0.69047619| HMate|        3|             6|                3|\n",
      "|     7|0.607142857| HMate|        3|             7|                3|\n",
      "|     8|0.285714286| HMate|        5|             8|                5|\n",
      "|     9| 0.44047619| HMate|        4|             9|                4|\n",
      "|    10|0.345238095| HMate|        4|            10|                4|\n",
      "|    11|0.178571429| HMate|        5|            11|                5|\n",
      "|    12|0.785714286| HMate|        2|            12|                2|\n",
      "|    13|0.404761905| HMate|        4|            13|                4|\n",
      "|    14|0.476190476| HMate|        4|            14|                4|\n",
      "|    15|0.333333333| HMate|        5|            15|                5|\n",
      "+------+-----------+------+---------+--------------+-----------------+\n",
      "only showing top 20 rows\n",
      "\n"
     ]
    }
   ],
   "source": [
    "## Se añaden las columnas imputadas al dataFrame\n",
    "imputer.fit(df_pyspark).transform(df_pyspark).show()"
   ]
  },
  {
   "cell_type": "code",
   "execution_count": 33,
   "id": "0bd9949a",
   "metadata": {},
   "outputs": [
    {
     "name": "stdout",
     "output_type": "stream",
     "text": [
      "+------+-----------+------+---------+\n",
      "|21A_Pr|     21A_Es|21A_Ma|21A_Es_Di|\n",
      "+------+-----------+------+---------+\n",
      "|   129|       null| Light|        4|\n",
      "|  null|    0.34532| Water|        5|\n",
      "|   131|    0.99999|  null|        1|\n",
      "|   132|      0.865|  Dark|     null|\n",
      "|   133|       null|  Fire|     null|\n",
      "|     1|        0.5| HMate|        4|\n",
      "|     2|0.226190476| HMate|        5|\n",
      "|     3|0.273809524| HMate|        5|\n",
      "|     4|0.297619048| HMate|        5|\n",
      "|     5|0.678571429| HMate|        3|\n",
      "|     6| 0.69047619| HMate|        3|\n",
      "|     7|0.607142857| HMate|        3|\n",
      "|     8|0.285714286| HMate|        5|\n",
      "|     9| 0.44047619| HMate|        4|\n",
      "|    10|0.345238095| HMate|        4|\n",
      "|    11|0.178571429| HMate|        5|\n",
      "|    12|0.785714286| HMate|        2|\n",
      "|    13|0.404761905| HMate|        4|\n",
      "|    14|0.476190476| HMate|        4|\n",
      "|    15|0.333333333| HMate|        5|\n",
      "+------+-----------+------+---------+\n",
      "only showing top 20 rows\n",
      "\n"
     ]
    }
   ],
   "source": [
    "df_pyspark.show()"
   ]
  },
  {
   "cell_type": "code",
   "execution_count": 34,
   "id": "6d9df74d",
   "metadata": {},
   "outputs": [],
   "source": [
    "df_pyspark=spark.read.csv('pds1.csv', header=True, inferSchema=True)"
   ]
  },
  {
   "cell_type": "code",
   "execution_count": 35,
   "id": "1f3d9a8f",
   "metadata": {},
   "outputs": [
    {
     "name": "stdout",
     "output_type": "stream",
     "text": [
      "+------+-----------+-------+---------+\n",
      "|21A_Pr|     21A_Es| 21A_Ma|21A_Es_Di|\n",
      "+------+-----------+-------+---------+\n",
      "|     1|        0.5|  HMate|        4|\n",
      "|     2|0.226190476|  HMate|        5|\n",
      "|     3|0.273809524|  HMate|        5|\n",
      "|     4|0.297619048|  HMate|        5|\n",
      "|     5|0.678571429|  HMate|        3|\n",
      "|     6| 0.69047619|  HMate|        3|\n",
      "|     7|0.607142857|  HMate|        3|\n",
      "|     8|0.285714286|  HMate|        5|\n",
      "|     9| 0.44047619|  HMate|        4|\n",
      "|    10|0.345238095|  HMate|        4|\n",
      "|    11|0.178571429|  HMate|        5|\n",
      "|    12|0.785714286|  HMate|        2|\n",
      "|    13|0.404761905|  HMate|        4|\n",
      "|    14|0.476190476|  HMate|        4|\n",
      "|    15|0.333333333|  HMate|        5|\n",
      "|    16|0.666666667|  HMate|        3|\n",
      "|    17|0.380952381|HVerbal|        4|\n",
      "|    18|0.797619048|HVerbal|        2|\n",
      "|    19|0.535714286|HVerbal|        3|\n",
      "|    20|0.416666667|HVerbal|        4|\n",
      "+------+-----------+-------+---------+\n",
      "only showing top 20 rows\n",
      "\n"
     ]
    }
   ],
   "source": [
    "df_pyspark.show()"
   ]
  },
  {
   "cell_type": "code",
   "execution_count": 51,
   "id": "dc04ffd0",
   "metadata": {},
   "outputs": [
    {
     "data": {
      "text/plain": [
       "[Column<'21A_Pr AS numPregunta'>,\n",
       " Column<'21A_Es AS estadistica'>,\n",
       " Column<'21A_Ma AS materia'>,\n",
       " Column<'21A_Es_Di AS dificultad'>]"
      ]
     },
     "execution_count": 51,
     "metadata": {},
     "output_type": "execute_result"
    }
   ],
   "source": [
    "from pyspark.sql.functions import col\n",
    "import os\n",
    "\n",
    "nuevosNombres= [(\"21A_Pr\",\"numPregunta\"),(\"21A_Es\",\"estadistica\"),(\"21A_Ma\",\"materia\"),(\"21A_Es_Di\",\"dificultad\")]\n",
    "type(nuevosNombres)\n",
    "\n",
    "columnExprs = [col(elem[0]).alias(elem[1]) for elem in nuevosNombres]\n",
    "type(columnExprs)\n",
    "columnExprs"
   ]
  },
  {
   "cell_type": "code",
   "execution_count": 50,
   "id": "32946d59",
   "metadata": {},
   "outputs": [
    {
     "name": "stdout",
     "output_type": "stream",
     "text": [
      "+-----------+-----------+-------+----------+\n",
      "|numPregunta|estadistica|materia|dificultad|\n",
      "+-----------+-----------+-------+----------+\n",
      "|          1|        0.5|  HMate|         4|\n",
      "|          2|0.226190476|  HMate|         5|\n",
      "|          3|0.273809524|  HMate|         5|\n",
      "|          4|0.297619048|  HMate|         5|\n",
      "|          5|0.678571429|  HMate|         3|\n",
      "|          6| 0.69047619|  HMate|         3|\n",
      "|          7|0.607142857|  HMate|         3|\n",
      "|          8|0.285714286|  HMate|         5|\n",
      "|          9| 0.44047619|  HMate|         4|\n",
      "|         10|0.345238095|  HMate|         4|\n",
      "|         11|0.178571429|  HMate|         5|\n",
      "|         12|0.785714286|  HMate|         2|\n",
      "|         13|0.404761905|  HMate|         4|\n",
      "|         14|0.476190476|  HMate|         4|\n",
      "|         15|0.333333333|  HMate|         5|\n",
      "|         16|0.666666667|  HMate|         3|\n",
      "|         17|0.380952381|HVerbal|         4|\n",
      "|         18|0.797619048|HVerbal|         2|\n",
      "|         19|0.535714286|HVerbal|         3|\n",
      "|         20|0.416666667|HVerbal|         4|\n",
      "+-----------+-----------+-------+----------+\n",
      "only showing top 20 rows\n",
      "\n"
     ]
    }
   ],
   "source": [
    "transformed_df=df_pyspark.select(*columnExprs)\n",
    "type(transformed_df)\n",
    "transformed_df.show()"
   ]
  },
  {
   "cell_type": "markdown",
   "id": "1f2c52f1",
   "metadata": {},
   "source": [
    "## Pyspark Data frame\n",
    "- Filter Operation\n",
    "- &, | , ==\n",
    "- ~"
   ]
  },
  {
   "cell_type": "code",
   "execution_count": 52,
   "id": "bd59bc42",
   "metadata": {},
   "outputs": [
    {
     "name": "stdout",
     "output_type": "stream",
     "text": [
      "+-----------+-----------+-------+----------+\n",
      "|numPregunta|estadistica|materia|dificultad|\n",
      "+-----------+-----------+-------+----------+\n",
      "|          1|        0.5|  HMate|         4|\n",
      "|          2|0.226190476|  HMate|         5|\n",
      "|          3|0.273809524|  HMate|         5|\n",
      "|          4|0.297619048|  HMate|         5|\n",
      "|          5|0.678571429|  HMate|         3|\n",
      "|          6| 0.69047619|  HMate|         3|\n",
      "|          7|0.607142857|  HMate|         3|\n",
      "|          8|0.285714286|  HMate|         5|\n",
      "|          9| 0.44047619|  HMate|         4|\n",
      "|         10|0.345238095|  HMate|         4|\n",
      "|         11|0.178571429|  HMate|         5|\n",
      "|         12|0.785714286|  HMate|         2|\n",
      "|         13|0.404761905|  HMate|         4|\n",
      "|         14|0.476190476|  HMate|         4|\n",
      "|         15|0.333333333|  HMate|         5|\n",
      "|         16|0.666666667|  HMate|         3|\n",
      "|         17|0.380952381|HVerbal|         4|\n",
      "|         18|0.797619048|HVerbal|         2|\n",
      "|         19|0.535714286|HVerbal|         3|\n",
      "|         20|0.416666667|HVerbal|         4|\n",
      "+-----------+-----------+-------+----------+\n",
      "only showing top 20 rows\n",
      "\n"
     ]
    }
   ],
   "source": [
    "df_pyspark = transformed_df\n",
    "df_pyspark.show()"
   ]
  },
  {
   "cell_type": "markdown",
   "id": "825a38f1",
   "metadata": {},
   "source": [
    "### Filter operations"
   ]
  },
  {
   "cell_type": "code",
   "execution_count": 53,
   "id": "f28c1731",
   "metadata": {},
   "outputs": [
    {
     "name": "stdout",
     "output_type": "stream",
     "text": [
      "+-----------+-----------+-------+----------+\n",
      "|numPregunta|estadistica|materia|dificultad|\n",
      "+-----------+-----------+-------+----------+\n",
      "|          5|0.678571429|  HMate|         3|\n",
      "|          6| 0.69047619|  HMate|         3|\n",
      "|          7|0.607142857|  HMate|         3|\n",
      "|         12|0.785714286|  HMate|         2|\n",
      "|         16|0.666666667|  HMate|         3|\n",
      "|         18|0.797619048|HVerbal|         2|\n",
      "|         19|0.535714286|HVerbal|         3|\n",
      "|         21|0.857142857|HVerbal|         2|\n",
      "|         22|0.761904762|HVerbal|         2|\n",
      "|         23| 0.69047619|HVerbal|         3|\n",
      "|         24|0.607142857|HVerbal|         3|\n",
      "|         25|0.761904762|HVerbal|         2|\n",
      "|         28|0.797619048|HVerbal|         2|\n",
      "|         30|0.547619048|HVerbal|         3|\n",
      "|         32|0.619047619|HVerbal|         3|\n",
      "|         38|0.619047619|    Bio|         3|\n",
      "|         40|0.714285714|    Bio|         3|\n",
      "|         44|0.761904762|    Bio|         2|\n",
      "|         47|0.916666667|    Civ|         1|\n",
      "|         49|0.595238095|    Civ|         3|\n",
      "+-----------+-----------+-------+----------+\n",
      "only showing top 20 rows\n",
      "\n"
     ]
    }
   ],
   "source": [
    "### Filtros\n",
    "df_pyspark.filter(\"dificultad <=3\").show()\n"
   ]
  },
  {
   "cell_type": "code",
   "execution_count": 54,
   "id": "33f0dc0a",
   "metadata": {},
   "outputs": [
    {
     "name": "stdout",
     "output_type": "stream",
     "text": [
      "+-----------+-------+\n",
      "|numPregunta|materia|\n",
      "+-----------+-------+\n",
      "|          5|  HMate|\n",
      "|          6|  HMate|\n",
      "|          7|  HMate|\n",
      "|         12|  HMate|\n",
      "|         16|  HMate|\n",
      "|         18|HVerbal|\n",
      "|         19|HVerbal|\n",
      "|         21|HVerbal|\n",
      "|         22|HVerbal|\n",
      "|         23|HVerbal|\n",
      "|         24|HVerbal|\n",
      "|         25|HVerbal|\n",
      "|         28|HVerbal|\n",
      "|         30|HVerbal|\n",
      "|         32|HVerbal|\n",
      "|         38|    Bio|\n",
      "|         40|    Bio|\n",
      "|         44|    Bio|\n",
      "|         47|    Civ|\n",
      "|         49|    Civ|\n",
      "+-----------+-------+\n",
      "only showing top 20 rows\n",
      "\n"
     ]
    }
   ],
   "source": [
    "df_pyspark.filter('dificultad <=3').select([\"numPregunta\",\"materia\"]).show()"
   ]
  },
  {
   "cell_type": "code",
   "execution_count": 58,
   "id": "acfde135",
   "metadata": {},
   "outputs": [
    {
     "name": "stdout",
     "output_type": "stream",
     "text": [
      "+-----------+-----------+-------+----------+\n",
      "|numPregunta|estadistica|materia|dificultad|\n",
      "+-----------+-----------+-------+----------+\n",
      "|         18|0.797619048|HVerbal|         2|\n",
      "|         19|0.535714286|HVerbal|         3|\n",
      "|         21|0.857142857|HVerbal|         2|\n",
      "|         22|0.761904762|HVerbal|         2|\n",
      "|         23| 0.69047619|HVerbal|         3|\n",
      "|         24|0.607142857|HVerbal|         3|\n",
      "|         25|0.761904762|HVerbal|         2|\n",
      "|         28|0.797619048|HVerbal|         2|\n",
      "|         30|0.547619048|HVerbal|         3|\n",
      "|         32|0.619047619|HVerbal|         3|\n",
      "+-----------+-----------+-------+----------+\n",
      "\n"
     ]
    }
   ],
   "source": [
    "df_pyspark.filter((df_pyspark['dificultad']<=3) & (df_pyspark[\"materia\"]==\"HVerbal\")).show()"
   ]
  },
  {
   "cell_type": "code",
   "execution_count": 66,
   "id": "fd57a2e3",
   "metadata": {},
   "outputs": [
    {
     "name": "stdout",
     "output_type": "stream",
     "text": [
      "+-----------+-----------+-------+----------+\n",
      "|numPregunta|estadistica|materia|dificultad|\n",
      "+-----------+-----------+-------+----------+\n",
      "|          5|0.678571429|  HMate|         3|\n",
      "|          6| 0.69047619|  HMate|         3|\n",
      "|          7|0.607142857|  HMate|         3|\n",
      "|         12|0.785714286|  HMate|         2|\n",
      "|         16|0.666666667|  HMate|         3|\n",
      "|         17|0.380952381|HVerbal|         4|\n",
      "|         18|0.797619048|HVerbal|         2|\n",
      "|         19|0.535714286|HVerbal|         3|\n",
      "|         20|0.416666667|HVerbal|         4|\n",
      "|         21|0.857142857|HVerbal|         2|\n",
      "|         22|0.761904762|HVerbal|         2|\n",
      "|         23| 0.69047619|HVerbal|         3|\n",
      "|         24|0.607142857|HVerbal|         3|\n",
      "|         25|0.761904762|HVerbal|         2|\n",
      "|         26|0.047619048|HVerbal|         5|\n",
      "|         27|0.392857143|HVerbal|         4|\n",
      "|         28|0.797619048|HVerbal|         2|\n",
      "|         29| 0.19047619|HVerbal|         5|\n",
      "|         30|0.547619048|HVerbal|         3|\n",
      "|         31|0.333333333|HVerbal|         5|\n",
      "|         32|0.619047619|HVerbal|         3|\n",
      "|         38|0.619047619|    Bio|         3|\n",
      "|         40|0.714285714|    Bio|         3|\n",
      "|         44|0.761904762|    Bio|         2|\n",
      "|         47|0.916666667|    Civ|         1|\n",
      "|         49|0.595238095|    Civ|         3|\n",
      "|         50| 0.94047619|    Civ|         1|\n",
      "|         52|0.904761905|    Civ|         1|\n",
      "|         58|0.821428571|    Esp|         2|\n",
      "|         59|0.619047619|    Esp|         3|\n",
      "|         62|0.607142857|    Esp|         3|\n",
      "|         67|0.892857143|    Esp|         1|\n",
      "|         68|0.678571429|    Esp|         3|\n",
      "|         69|0.773809524|    Fis|         2|\n",
      "|         70|0.821428571|    Fis|         2|\n",
      "|         74|0.714285714|    Fis|         3|\n",
      "|         79|0.666666667|    Fis|         3|\n",
      "|         81|0.833333333|    Geo|         2|\n",
      "|         94|0.547619048| HisMex|         3|\n",
      "|         96|0.630952381| HisMex|         3|\n",
      "|        100|0.547619048| HisUni|         3|\n",
      "|        103|0.773809524| HisUni|         2|\n",
      "|        105|0.535714286|   Mate|         3|\n",
      "|        106|0.654761905|   Mate|         3|\n",
      "|        111| 0.69047619|   Mate|         3|\n",
      "|        116|0.726190476|   Mate|         2|\n",
      "|        120|0.630952381|    Qui|         3|\n",
      "+-----------+-----------+-------+----------+\n",
      "\n"
     ]
    }
   ],
   "source": [
    "df_pyspark.filter((df_pyspark['dificultad']<=3) | (df_pyspark[\"materia\"]==\"HVerbal\")).show(df_pyspark.count())"
   ]
  },
  {
   "cell_type": "code",
   "execution_count": 68,
   "id": "628cc9ce",
   "metadata": {},
   "outputs": [
    {
     "name": "stdout",
     "output_type": "stream",
     "text": [
      "+-----------+-----------+-------+----------+\n",
      "|numPregunta|estadistica|materia|dificultad|\n",
      "+-----------+-----------+-------+----------+\n",
      "|          5|0.678571429|  HMate|         3|\n",
      "|          6| 0.69047619|  HMate|         3|\n",
      "|          7|0.607142857|  HMate|         3|\n",
      "|         12|0.785714286|  HMate|         2|\n",
      "|         16|0.666666667|  HMate|         3|\n",
      "|         18|0.797619048|HVerbal|         2|\n",
      "|         19|0.535714286|HVerbal|         3|\n",
      "|         21|0.857142857|HVerbal|         2|\n",
      "|         22|0.761904762|HVerbal|         2|\n",
      "|         23| 0.69047619|HVerbal|         3|\n",
      "|         24|0.607142857|HVerbal|         3|\n",
      "|         25|0.761904762|HVerbal|         2|\n",
      "|         28|0.797619048|HVerbal|         2|\n",
      "|         30|0.547619048|HVerbal|         3|\n",
      "|         32|0.619047619|HVerbal|         3|\n",
      "|         38|0.619047619|    Bio|         3|\n",
      "|         40|0.714285714|    Bio|         3|\n",
      "|         44|0.761904762|    Bio|         2|\n",
      "|         47|0.916666667|    Civ|         1|\n",
      "|         49|0.595238095|    Civ|         3|\n",
      "+-----------+-----------+-------+----------+\n",
      "only showing top 20 rows\n",
      "\n"
     ]
    }
   ],
   "source": [
    "df_pyspark.filter(df_pyspark['dificultad']<=3).show()"
   ]
  },
  {
   "cell_type": "code",
   "execution_count": 69,
   "id": "bc423fb4",
   "metadata": {},
   "outputs": [
    {
     "name": "stdout",
     "output_type": "stream",
     "text": [
      "+-----------+-----------+-------+----------+\n",
      "|numPregunta|estadistica|materia|dificultad|\n",
      "+-----------+-----------+-------+----------+\n",
      "|          1|        0.5|  HMate|         4|\n",
      "|          2|0.226190476|  HMate|         5|\n",
      "|          3|0.273809524|  HMate|         5|\n",
      "|          4|0.297619048|  HMate|         5|\n",
      "|          8|0.285714286|  HMate|         5|\n",
      "|          9| 0.44047619|  HMate|         4|\n",
      "|         10|0.345238095|  HMate|         4|\n",
      "|         11|0.178571429|  HMate|         5|\n",
      "|         13|0.404761905|  HMate|         4|\n",
      "|         14|0.476190476|  HMate|         4|\n",
      "|         15|0.333333333|  HMate|         5|\n",
      "|         17|0.380952381|HVerbal|         4|\n",
      "|         20|0.416666667|HVerbal|         4|\n",
      "|         26|0.047619048|HVerbal|         5|\n",
      "|         27|0.392857143|HVerbal|         4|\n",
      "|         29| 0.19047619|HVerbal|         5|\n",
      "|         31|0.333333333|HVerbal|         5|\n",
      "|         33|0.380952381|    Bio|         4|\n",
      "|         34|0.357142857|    Bio|         4|\n",
      "|         35|0.297619048|    Bio|         5|\n",
      "+-----------+-----------+-------+----------+\n",
      "only showing top 20 rows\n",
      "\n"
     ]
    }
   ],
   "source": [
    "df_pyspark.filter(~(df_pyspark['dificultad']<=3)).show()"
   ]
  },
  {
   "cell_type": "markdown",
   "id": "afb9b4db",
   "metadata": {},
   "source": [
    "## Group by y agregar funciones"
   ]
  },
  {
   "cell_type": "code",
   "execution_count": 70,
   "id": "44df1367",
   "metadata": {},
   "outputs": [
    {
     "name": "stdout",
     "output_type": "stream",
     "text": [
      "root\n",
      " |-- numPregunta: integer (nullable = true)\n",
      " |-- estadistica: double (nullable = true)\n",
      " |-- materia: string (nullable = true)\n",
      " |-- dificultad: integer (nullable = true)\n",
      "\n"
     ]
    }
   ],
   "source": [
    "df_pyspark.printSchema()"
   ]
  },
  {
   "cell_type": "code",
   "execution_count": 79,
   "id": "550d39cf",
   "metadata": {},
   "outputs": [
    {
     "name": "stdout",
     "output_type": "stream",
     "text": [
      "+-------+----------------+-------------------+------------------+\n",
      "|materia|avg(numPregunta)|   avg(estadistica)|   avg(dificultad)|\n",
      "+-------+----------------+-------------------+------------------+\n",
      "|    Fis|            74.5| 0.5089285714166667|              3.75|\n",
      "|   Mate|           110.5|0.45833333341666677|              3.75|\n",
      "|    Bio|            38.5|0.46527777775000007|              3.75|\n",
      "|    Qui|           122.5|0.29662698416666666| 4.666666666666667|\n",
      "|    Geo|            86.5| 0.4097222223333333|              4.25|\n",
      "|    Esp|            62.5| 0.4950396824999999|3.5833333333333335|\n",
      "|    Civ|            50.5|      0.52083333325|               3.5|\n",
      "| HisUni|           101.5| 0.4246031748333334|               4.0|\n",
      "| HisMex|            95.5|0.42857142866666664|               4.0|\n",
      "|HVerbal|            24.5|    0.5461309524375|              3.25|\n",
      "|  HMate|             8.5|    0.4494047619375|               4.0|\n",
      "+-------+----------------+-------------------+------------------+\n",
      "\n"
     ]
    }
   ],
   "source": [
    "## Group by\n",
    "df_pyspark.groupBy('materia').avg().show()"
   ]
  },
  {
   "cell_type": "code",
   "execution_count": 81,
   "id": "82ff7cb6",
   "metadata": {},
   "outputs": [
    {
     "name": "stdout",
     "output_type": "stream",
     "text": [
      "+-------+----------------+-------------------+------------------+\n",
      "|materia|avg(numPregunta)|   avg(estadistica)|   avg(dificultad)|\n",
      "+-------+----------------+-------------------+------------------+\n",
      "|    Fis|            74.5| 0.5089285714166667|              3.75|\n",
      "|   Mate|           110.5|0.45833333341666677|              3.75|\n",
      "|    Bio|            38.5|0.46527777775000007|              3.75|\n",
      "|    Qui|           122.5|0.29662698416666666| 4.666666666666667|\n",
      "|    Geo|            86.5| 0.4097222223333333|              4.25|\n",
      "|    Esp|            62.5| 0.4950396824999999|3.5833333333333335|\n",
      "|    Civ|            50.5|      0.52083333325|               3.5|\n",
      "| HisUni|           101.5| 0.4246031748333334|               4.0|\n",
      "| HisMex|            95.5|0.42857142866666664|               4.0|\n",
      "|HVerbal|            24.5|    0.5461309524375|              3.25|\n",
      "|  HMate|             8.5|    0.4494047619375|               4.0|\n",
      "+-------+----------------+-------------------+------------------+\n",
      "\n"
     ]
    }
   ],
   "source": [
    "df_pyspark.groupBy('materia').mean().show()"
   ]
  },
  {
   "cell_type": "code",
   "execution_count": 83,
   "id": "d520f86b",
   "metadata": {},
   "outputs": [
    {
     "name": "stdout",
     "output_type": "stream",
     "text": [
      "+----------+-----+\n",
      "|dificultad|count|\n",
      "+----------+-----+\n",
      "|         1|    4|\n",
      "|         3|   24|\n",
      "|         5|   41|\n",
      "|         4|   46|\n",
      "|         2|   13|\n",
      "+----------+-----+\n",
      "\n"
     ]
    }
   ],
   "source": [
    "df_pyspark.groupBy('dificultad').count().show()"
   ]
  },
  {
   "cell_type": "code",
   "execution_count": 85,
   "id": "159d37a2",
   "metadata": {},
   "outputs": [
    {
     "name": "stdout",
     "output_type": "stream",
     "text": [
      "+-------------------+\n",
      "|   avg(estadistica)|\n",
      "+-------------------+\n",
      "|0.46019345241406256|\n",
      "+-------------------+\n",
      "\n"
     ]
    }
   ],
   "source": [
    "df_pyspark.agg({'estadistica':'mean'}).show()"
   ]
  },
  {
   "cell_type": "code",
   "execution_count": 87,
   "id": "d270e103",
   "metadata": {},
   "outputs": [
    {
     "name": "stdout",
     "output_type": "stream",
     "text": [
      "+-------+----------------+----------------+---------------+\n",
      "|materia|max(numPregunta)|max(estadistica)|max(dificultad)|\n",
      "+-------+----------------+----------------+---------------+\n",
      "|    Fis|              80|     0.821428571|              5|\n",
      "|   Mate|             116|     0.726190476|              5|\n",
      "|    Bio|              44|     0.761904762|              5|\n",
      "|    Qui|             128|     0.630952381|              5|\n",
      "|    Geo|              92|     0.833333333|              5|\n",
      "|    Esp|              68|     0.892857143|              5|\n",
      "|    Civ|              56|      0.94047619|              5|\n",
      "| HisUni|             104|     0.773809524|              5|\n",
      "| HisMex|              98|     0.630952381|              5|\n",
      "|HVerbal|              32|     0.857142857|              5|\n",
      "|  HMate|              16|     0.785714286|              5|\n",
      "+-------+----------------+----------------+---------------+\n",
      "\n"
     ]
    }
   ],
   "source": [
    "df_pyspark.groupBy('materia').max().show()"
   ]
  },
  {
   "cell_type": "markdown",
   "id": "fe5180c9",
   "metadata": {},
   "source": []
  }
 ],
 "metadata": {
  "kernelspec": {
   "display_name": "Python 3 (ipykernel)",
   "language": "python",
   "name": "python3"
  },
  "language_info": {
   "codemirror_mode": {
    "name": "ipython",
    "version": 3
   },
   "file_extension": ".py",
   "mimetype": "text/x-python",
   "name": "python",
   "nbconvert_exporter": "python",
   "pygments_lexer": "ipython3",
   "version": "3.9.7"
  }
 },
 "nbformat": 4,
 "nbformat_minor": 5
}
