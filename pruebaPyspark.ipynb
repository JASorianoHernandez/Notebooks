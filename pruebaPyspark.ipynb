{
 "cells": [
  {
   "cell_type": "code",
   "execution_count": 139,
   "id": "78263886",
   "metadata": {},
   "outputs": [
    {
     "name": "stdout",
     "output_type": "stream",
     "text": [
      "Requirement already satisfied: pyspark in c:\\programdata\\anaconda3\\lib\\site-packages (3.2.1)\n",
      "Requirement already satisfied: py4j==0.10.9.3 in c:\\programdata\\anaconda3\\lib\\site-packages (from pyspark) (0.10.9.3)\n"
     ]
    }
   ],
   "source": [
    "!pip install pyspark"
   ]
  },
  {
   "cell_type": "code",
   "execution_count": 140,
   "id": "7ef1cf1a",
   "metadata": {},
   "outputs": [],
   "source": [
    "import pyspark"
   ]
  },
  {
   "cell_type": "code",
   "execution_count": 141,
   "id": "88e3c4bd",
   "metadata": {},
   "outputs": [
    {
     "data": {
      "text/html": [
       "<div>\n",
       "<style scoped>\n",
       "    .dataframe tbody tr th:only-of-type {\n",
       "        vertical-align: middle;\n",
       "    }\n",
       "\n",
       "    .dataframe tbody tr th {\n",
       "        vertical-align: top;\n",
       "    }\n",
       "\n",
       "    .dataframe thead th {\n",
       "        text-align: right;\n",
       "    }\n",
       "</style>\n",
       "<table border=\"1\" class=\"dataframe\">\n",
       "  <thead>\n",
       "    <tr style=\"text-align: right;\">\n",
       "      <th></th>\n",
       "      <th>21A_Pr</th>\n",
       "      <th>21A_Es</th>\n",
       "      <th>21A_Ma</th>\n",
       "      <th>21A_Es_Di</th>\n",
       "    </tr>\n",
       "  </thead>\n",
       "  <tbody>\n",
       "    <tr>\n",
       "      <th>0</th>\n",
       "      <td>1</td>\n",
       "      <td>0.500000</td>\n",
       "      <td>HMate</td>\n",
       "      <td>4</td>\n",
       "    </tr>\n",
       "    <tr>\n",
       "      <th>1</th>\n",
       "      <td>2</td>\n",
       "      <td>0.226190</td>\n",
       "      <td>HMate</td>\n",
       "      <td>5</td>\n",
       "    </tr>\n",
       "    <tr>\n",
       "      <th>2</th>\n",
       "      <td>3</td>\n",
       "      <td>0.273810</td>\n",
       "      <td>HMate</td>\n",
       "      <td>5</td>\n",
       "    </tr>\n",
       "    <tr>\n",
       "      <th>3</th>\n",
       "      <td>4</td>\n",
       "      <td>0.297619</td>\n",
       "      <td>HMate</td>\n",
       "      <td>5</td>\n",
       "    </tr>\n",
       "    <tr>\n",
       "      <th>4</th>\n",
       "      <td>5</td>\n",
       "      <td>0.678571</td>\n",
       "      <td>HMate</td>\n",
       "      <td>3</td>\n",
       "    </tr>\n",
       "    <tr>\n",
       "      <th>...</th>\n",
       "      <td>...</td>\n",
       "      <td>...</td>\n",
       "      <td>...</td>\n",
       "      <td>...</td>\n",
       "    </tr>\n",
       "    <tr>\n",
       "      <th>123</th>\n",
       "      <td>124</td>\n",
       "      <td>0.214286</td>\n",
       "      <td>Qui</td>\n",
       "      <td>5</td>\n",
       "    </tr>\n",
       "    <tr>\n",
       "      <th>124</th>\n",
       "      <td>125</td>\n",
       "      <td>0.238095</td>\n",
       "      <td>Qui</td>\n",
       "      <td>5</td>\n",
       "    </tr>\n",
       "    <tr>\n",
       "      <th>125</th>\n",
       "      <td>126</td>\n",
       "      <td>0.190476</td>\n",
       "      <td>Qui</td>\n",
       "      <td>5</td>\n",
       "    </tr>\n",
       "    <tr>\n",
       "      <th>126</th>\n",
       "      <td>127</td>\n",
       "      <td>0.238095</td>\n",
       "      <td>Qui</td>\n",
       "      <td>5</td>\n",
       "    </tr>\n",
       "    <tr>\n",
       "      <th>127</th>\n",
       "      <td>128</td>\n",
       "      <td>0.309524</td>\n",
       "      <td>Qui</td>\n",
       "      <td>5</td>\n",
       "    </tr>\n",
       "  </tbody>\n",
       "</table>\n",
       "<p>128 rows × 4 columns</p>\n",
       "</div>"
      ],
      "text/plain": [
       "     21A_Pr    21A_Es 21A_Ma  21A_Es_Di\n",
       "0         1  0.500000  HMate          4\n",
       "1         2  0.226190  HMate          5\n",
       "2         3  0.273810  HMate          5\n",
       "3         4  0.297619  HMate          5\n",
       "4         5  0.678571  HMate          3\n",
       "..      ...       ...    ...        ...\n",
       "123     124  0.214286    Qui          5\n",
       "124     125  0.238095    Qui          5\n",
       "125     126  0.190476    Qui          5\n",
       "126     127  0.238095    Qui          5\n",
       "127     128  0.309524    Qui          5\n",
       "\n",
       "[128 rows x 4 columns]"
      ]
     },
     "execution_count": 141,
     "metadata": {},
     "output_type": "execute_result"
    }
   ],
   "source": [
    "import pandas as pd\n",
    "pd.read_csv('pruebaDs.csv')"
   ]
  },
  {
   "cell_type": "code",
   "execution_count": 142,
   "id": "7e41b4fa",
   "metadata": {},
   "outputs": [],
   "source": [
    "from pyspark.sql import SparkSession"
   ]
  },
  {
   "cell_type": "code",
   "execution_count": 143,
   "id": "6ab853c8",
   "metadata": {},
   "outputs": [],
   "source": [
    "spark=SparkSession.builder.appName('pruebaPyspark').getOrCreate()"
   ]
  },
  {
   "cell_type": "code",
   "execution_count": 144,
   "id": "5629be6f",
   "metadata": {},
   "outputs": [
    {
     "data": {
      "text/html": [
       "\n",
       "            <div>\n",
       "                <p><b>SparkSession - in-memory</b></p>\n",
       "                \n",
       "        <div>\n",
       "            <p><b>SparkContext</b></p>\n",
       "\n",
       "            <p><a href=\"http://DESKTOP-PSQA9QR:4040\">Spark UI</a></p>\n",
       "\n",
       "            <dl>\n",
       "              <dt>Version</dt>\n",
       "                <dd><code>v3.2.1</code></dd>\n",
       "              <dt>Master</dt>\n",
       "                <dd><code>local[*]</code></dd>\n",
       "              <dt>AppName</dt>\n",
       "                <dd><code>pruebaPyspark</code></dd>\n",
       "            </dl>\n",
       "        </div>\n",
       "        \n",
       "            </div>\n",
       "        "
      ],
      "text/plain": [
       "<pyspark.sql.session.SparkSession at 0x2741c3bedf0>"
      ]
     },
     "execution_count": 144,
     "metadata": {},
     "output_type": "execute_result"
    }
   ],
   "source": [
    "spark"
   ]
  },
  {
   "cell_type": "code",
   "execution_count": 145,
   "id": "fd0591b8",
   "metadata": {},
   "outputs": [],
   "source": [
    "df_pyspark=spark.read.csv('pruebaDs.csv')"
   ]
  },
  {
   "cell_type": "code",
   "execution_count": 146,
   "id": "1c293538",
   "metadata": {},
   "outputs": [
    {
     "name": "stdout",
     "output_type": "stream",
     "text": [
      "+------+-----------+-------+---------+\n",
      "|   _c0|        _c1|    _c2|      _c3|\n",
      "+------+-----------+-------+---------+\n",
      "|21A_Pr|     21A_Es| 21A_Ma|21A_Es_Di|\n",
      "|     1|        0.5|  HMate|        4|\n",
      "|     2|0.226190476|  HMate|        5|\n",
      "|     3|0.273809524|  HMate|        5|\n",
      "|     4|0.297619048|  HMate|        5|\n",
      "|     5|0.678571429|  HMate|        3|\n",
      "|     6| 0.69047619|  HMate|        3|\n",
      "|     7|0.607142857|  HMate|        3|\n",
      "|     8|0.285714286|  HMate|        5|\n",
      "|     9| 0.44047619|  HMate|        4|\n",
      "|    10|0.345238095|  HMate|        4|\n",
      "|    11|0.178571429|  HMate|        5|\n",
      "|    12|0.785714286|  HMate|        2|\n",
      "|    13|0.404761905|  HMate|        4|\n",
      "|    14|0.476190476|  HMate|        4|\n",
      "|    15|0.333333333|  HMate|        5|\n",
      "|    16|0.666666667|  HMate|        3|\n",
      "|    17|0.380952381|HVerbal|        4|\n",
      "|    18|0.797619048|HVerbal|        2|\n",
      "|    19|0.535714286|HVerbal|        3|\n",
      "+------+-----------+-------+---------+\n",
      "only showing top 20 rows\n",
      "\n"
     ]
    }
   ],
   "source": [
    "df_pyspark.show()"
   ]
  },
  {
   "cell_type": "code",
   "execution_count": 147,
   "id": "852ff17b",
   "metadata": {},
   "outputs": [],
   "source": [
    "df_pyspark=spark.read.option('header','true').csv('pruebaDs.csv')"
   ]
  },
  {
   "cell_type": "code",
   "execution_count": 148,
   "id": "f7d3a6f2",
   "metadata": {},
   "outputs": [
    {
     "data": {
      "text/plain": [
       "pyspark.sql.dataframe.DataFrame"
      ]
     },
     "execution_count": 148,
     "metadata": {},
     "output_type": "execute_result"
    }
   ],
   "source": [
    "type(df_pyspark)"
   ]
  },
  {
   "cell_type": "code",
   "execution_count": 149,
   "id": "000fa7ef",
   "metadata": {},
   "outputs": [
    {
     "data": {
      "text/plain": [
       "[Row(21A_Pr='1', 21A_Es='0.5', 21A_Ma='HMate', 21A_Es_Di='4'),\n",
       " Row(21A_Pr='2', 21A_Es='0.226190476', 21A_Ma='HMate', 21A_Es_Di='5'),\n",
       " Row(21A_Pr='3', 21A_Es='0.273809524', 21A_Ma='HMate', 21A_Es_Di='5')]"
      ]
     },
     "execution_count": 149,
     "metadata": {},
     "output_type": "execute_result"
    }
   ],
   "source": [
    "df_pyspark.head(3)"
   ]
  },
  {
   "cell_type": "code",
   "execution_count": 150,
   "id": "5e0b2c13",
   "metadata": {},
   "outputs": [
    {
     "name": "stdout",
     "output_type": "stream",
     "text": [
      "root\n",
      " |-- 21A_Pr: string (nullable = true)\n",
      " |-- 21A_Es: string (nullable = true)\n",
      " |-- 21A_Ma: string (nullable = true)\n",
      " |-- 21A_Es_Di: string (nullable = true)\n",
      "\n"
     ]
    }
   ],
   "source": [
    "df_pyspark.printSchema()"
   ]
  },
  {
   "cell_type": "markdown",
   "id": "7cb99d49",
   "metadata": {},
   "source": [
    "## Parte 2"
   ]
  },
  {
   "cell_type": "code",
   "execution_count": 152,
   "id": "5be52251",
   "metadata": {},
   "outputs": [
    {
     "name": "stdout",
     "output_type": "stream",
     "text": [
      "+------+-----------+-------+---------+\n",
      "|21A_Pr|     21A_Es| 21A_Ma|21A_Es_Di|\n",
      "+------+-----------+-------+---------+\n",
      "|     1|        0.5|  HMate|        4|\n",
      "|     2|0.226190476|  HMate|        5|\n",
      "|     3|0.273809524|  HMate|        5|\n",
      "|     4|0.297619048|  HMate|        5|\n",
      "|     5|0.678571429|  HMate|        3|\n",
      "|     6| 0.69047619|  HMate|        3|\n",
      "|     7|0.607142857|  HMate|        3|\n",
      "|     8|0.285714286|  HMate|        5|\n",
      "|     9| 0.44047619|  HMate|        4|\n",
      "|    10|0.345238095|  HMate|        4|\n",
      "|    11|0.178571429|  HMate|        5|\n",
      "|    12|0.785714286|  HMate|        2|\n",
      "|    13|0.404761905|  HMate|        4|\n",
      "|    14|0.476190476|  HMate|        4|\n",
      "|    15|0.333333333|  HMate|        5|\n",
      "|    16|0.666666667|  HMate|        3|\n",
      "|    17|0.380952381|HVerbal|        4|\n",
      "|    18|0.797619048|HVerbal|        2|\n",
      "|    19|0.535714286|HVerbal|        3|\n",
      "|    20|0.416666667|HVerbal|        4|\n",
      "+------+-----------+-------+---------+\n",
      "only showing top 20 rows\n",
      "\n"
     ]
    }
   ],
   "source": [
    "## leyendo el archivo\n",
    "##spark.read.option('header','true').csv('pruebaDs.csv')\n",
    "\n",
    "## inferir el tipo de dato\n",
    "df_pyspark=spark.read.option('header','true').csv('pruebaDs.csv', inferSchema=True)\n",
    "df_pyspark.show()"
   ]
  },
  {
   "cell_type": "code",
   "execution_count": 153,
   "id": "6d8e89c1",
   "metadata": {},
   "outputs": [
    {
     "name": "stdout",
     "output_type": "stream",
     "text": [
      "root\n",
      " |-- 21A_Pr: integer (nullable = true)\n",
      " |-- 21A_Es: double (nullable = true)\n",
      " |-- 21A_Ma: string (nullable = true)\n",
      " |-- 21A_Es_Di: integer (nullable = true)\n",
      "\n"
     ]
    }
   ],
   "source": [
    "#### check the schema, o sea los tipos\n",
    "df_pyspark.printSchema()"
   ]
  },
  {
   "cell_type": "code",
   "execution_count": 154,
   "id": "d64f1815",
   "metadata": {},
   "outputs": [
    {
     "data": {
      "text/plain": [
       "pyspark.sql.dataframe.DataFrame"
      ]
     },
     "execution_count": 154,
     "metadata": {},
     "output_type": "execute_result"
    }
   ],
   "source": [
    "type(df_pyspark)"
   ]
  },
  {
   "cell_type": "code",
   "execution_count": 155,
   "id": "f889e1d4",
   "metadata": {},
   "outputs": [
    {
     "data": {
      "text/plain": [
       "[Row(21A_Pr=1, 21A_Es=0.5, 21A_Ma='HMate', 21A_Es_Di=4),\n",
       " Row(21A_Pr=2, 21A_Es=0.226190476, 21A_Ma='HMate', 21A_Es_Di=5),\n",
       " Row(21A_Pr=3, 21A_Es=0.273809524, 21A_Ma='HMate', 21A_Es_Di=5)]"
      ]
     },
     "execution_count": 155,
     "metadata": {},
     "output_type": "execute_result"
    }
   ],
   "source": [
    "df_pyspark.head(3)"
   ]
  },
  {
   "cell_type": "code",
   "execution_count": 156,
   "id": "b4daf3e3",
   "metadata": {},
   "outputs": [
    {
     "name": "stdout",
     "output_type": "stream",
     "text": [
      "+-----------+-------+\n",
      "|     21a_Es| 21A_Ma|\n",
      "+-----------+-------+\n",
      "|        0.5|  HMate|\n",
      "|0.226190476|  HMate|\n",
      "|0.273809524|  HMate|\n",
      "|0.297619048|  HMate|\n",
      "|0.678571429|  HMate|\n",
      "| 0.69047619|  HMate|\n",
      "|0.607142857|  HMate|\n",
      "|0.285714286|  HMate|\n",
      "| 0.44047619|  HMate|\n",
      "|0.345238095|  HMate|\n",
      "|0.178571429|  HMate|\n",
      "|0.785714286|  HMate|\n",
      "|0.404761905|  HMate|\n",
      "|0.476190476|  HMate|\n",
      "|0.333333333|  HMate|\n",
      "|0.666666667|  HMate|\n",
      "|0.380952381|HVerbal|\n",
      "|0.797619048|HVerbal|\n",
      "|0.535714286|HVerbal|\n",
      "|0.416666667|HVerbal|\n",
      "+-----------+-------+\n",
      "only showing top 20 rows\n",
      "\n"
     ]
    }
   ],
   "source": [
    "#selecionando solo la columna\n",
    "df_pyspark.select(['21a_Es','21A_Ma']).show()"
   ]
  },
  {
   "cell_type": "code",
   "execution_count": 157,
   "id": "71b77bba",
   "metadata": {},
   "outputs": [
    {
     "data": {
      "text/plain": [
       "[('21A_Pr', 'int'),\n",
       " ('21A_Es', 'double'),\n",
       " ('21A_Ma', 'string'),\n",
       " ('21A_Es_Di', 'int')]"
      ]
     },
     "execution_count": 157,
     "metadata": {},
     "output_type": "execute_result"
    }
   ],
   "source": [
    "#similar al schema\n",
    "df_pyspark.dtypes"
   ]
  },
  {
   "cell_type": "code",
   "execution_count": 158,
   "id": "5c2e5279",
   "metadata": {},
   "outputs": [
    {
     "name": "stdout",
     "output_type": "stream",
     "text": [
      "+-------+------------------+-------------------+------+------------------+\n",
      "|summary|            21A_Pr|             21A_Es|21A_Ma|         21A_Es_Di|\n",
      "+-------+------------------+-------------------+------+------------------+\n",
      "|  count|               128|                128|   128|               128|\n",
      "|   mean|              64.5|0.46019345241406256|  null|         3.8359375|\n",
      "| stddev|37.094473981982816| 0.2012692369613208|  null|1.0851709379479937|\n",
      "|    min|                 1|        0.047619048|   Bio|                 1|\n",
      "|    max|               128|         0.94047619|   Qui|                 5|\n",
      "+-------+------------------+-------------------+------+------------------+\n",
      "\n"
     ]
    }
   ],
   "source": [
    "df_pyspark.describe().show()"
   ]
  },
  {
   "cell_type": "code",
   "execution_count": 159,
   "id": "00906be6",
   "metadata": {},
   "outputs": [],
   "source": [
    "#### Agreggar columnas\n",
    "df_pyspark=df_pyspark.withColumn('Nueva',df_pyspark['21A_Pr']+1)"
   ]
  },
  {
   "cell_type": "code",
   "execution_count": 161,
   "id": "d592f741",
   "metadata": {},
   "outputs": [],
   "source": [
    "### Eliminar\n",
    "df_pyspark=df_pyspark.drop('Nueva')"
   ]
  },
  {
   "cell_type": "code",
   "execution_count": 162,
   "id": "b3a4af04",
   "metadata": {},
   "outputs": [
    {
     "name": "stdout",
     "output_type": "stream",
     "text": [
      "+------+-----------+-------+---------+\n",
      "|21A_Pr|     21A_Es| 21A_Ma|21A_Es_Di|\n",
      "+------+-----------+-------+---------+\n",
      "|     1|        0.5|  HMate|        4|\n",
      "|     2|0.226190476|  HMate|        5|\n",
      "|     3|0.273809524|  HMate|        5|\n",
      "|     4|0.297619048|  HMate|        5|\n",
      "|     5|0.678571429|  HMate|        3|\n",
      "|     6| 0.69047619|  HMate|        3|\n",
      "|     7|0.607142857|  HMate|        3|\n",
      "|     8|0.285714286|  HMate|        5|\n",
      "|     9| 0.44047619|  HMate|        4|\n",
      "|    10|0.345238095|  HMate|        4|\n",
      "|    11|0.178571429|  HMate|        5|\n",
      "|    12|0.785714286|  HMate|        2|\n",
      "|    13|0.404761905|  HMate|        4|\n",
      "|    14|0.476190476|  HMate|        4|\n",
      "|    15|0.333333333|  HMate|        5|\n",
      "|    16|0.666666667|  HMate|        3|\n",
      "|    17|0.380952381|HVerbal|        4|\n",
      "|    18|0.797619048|HVerbal|        2|\n",
      "|    19|0.535714286|HVerbal|        3|\n",
      "|    20|0.416666667|HVerbal|        4|\n",
      "+------+-----------+-------+---------+\n",
      "only showing top 20 rows\n",
      "\n"
     ]
    }
   ],
   "source": [
    "df_pyspark.show()"
   ]
  },
  {
   "cell_type": "code",
   "execution_count": null,
   "id": "044f33ac",
   "metadata": {},
   "outputs": [],
   "source": [
    "### Renombrar la columna\n",
    "df_pysp ark.withColumnRenamed('21A_Ma','Materia')"
   ]
  },
  {
   "cell_type": "markdown",
   "id": "5965322e",
   "metadata": {},
   "source": [
    "## Parte 3\n",
    "### Tratando con valores nulos"
   ]
  },
  {
   "cell_type": "code",
   "execution_count": 168,
   "id": "25afc0cd",
   "metadata": {},
   "outputs": [
    {
     "name": "stdout",
     "output_type": "stream",
     "text": [
      "+------+-----------+------+---------+\n",
      "|21A_Pr|     21A_Es|21A_Ma|21A_Es_Di|\n",
      "+------+-----------+------+---------+\n",
      "|   129|       null| Light|        4|\n",
      "|  null|    0.34532| Water|        5|\n",
      "|   131|    0.99999|  null|        1|\n",
      "|   132|      0.865|  Dark|     null|\n",
      "|   133|       null|  Fire|     null|\n",
      "|     1|        0.5| HMate|        4|\n",
      "|     2|0.226190476| HMate|        5|\n",
      "|     3|0.273809524| HMate|        5|\n",
      "|     4|0.297619048| HMate|        5|\n",
      "|     5|0.678571429| HMate|        3|\n",
      "|     6| 0.69047619| HMate|        3|\n",
      "|     7|0.607142857| HMate|        3|\n",
      "|     8|0.285714286| HMate|        5|\n",
      "|     9| 0.44047619| HMate|        4|\n",
      "|    10|0.345238095| HMate|        4|\n",
      "|    11|0.178571429| HMate|        5|\n",
      "|    12|0.785714286| HMate|        2|\n",
      "|    13|0.404761905| HMate|        4|\n",
      "|    14|0.476190476| HMate|        4|\n",
      "|    15|0.333333333| HMate|        5|\n",
      "+------+-----------+------+---------+\n",
      "only showing top 20 rows\n",
      "\n"
     ]
    }
   ],
   "source": [
    "spark.read.csv('pds2.csv',header=True, inferSchema=True).show()\n",
    "df_pyspark=spark.read.csv('pds2.csv',header=True, inferSchema=True)\n"
   ]
  },
  {
   "cell_type": "code",
   "execution_count": 172,
   "id": "def02bb9",
   "metadata": {},
   "outputs": [
    {
     "name": "stdout",
     "output_type": "stream",
     "text": [
      "+------+-----------+-------+---------+\n",
      "|21A_Pr|     21A_Es| 21A_Ma|21A_Es_Di|\n",
      "+------+-----------+-------+---------+\n",
      "|     1|        0.5|  HMate|        4|\n",
      "|     2|0.226190476|  HMate|        5|\n",
      "|     3|0.273809524|  HMate|        5|\n",
      "|     4|0.297619048|  HMate|        5|\n",
      "|     5|0.678571429|  HMate|        3|\n",
      "|     6| 0.69047619|  HMate|        3|\n",
      "|     7|0.607142857|  HMate|        3|\n",
      "|     8|0.285714286|  HMate|        5|\n",
      "|     9| 0.44047619|  HMate|        4|\n",
      "|    10|0.345238095|  HMate|        4|\n",
      "|    11|0.178571429|  HMate|        5|\n",
      "|    12|0.785714286|  HMate|        2|\n",
      "|    13|0.404761905|  HMate|        4|\n",
      "|    14|0.476190476|  HMate|        4|\n",
      "|    15|0.333333333|  HMate|        5|\n",
      "|    16|0.666666667|  HMate|        3|\n",
      "|    17|0.380952381|HVerbal|        4|\n",
      "|    18|0.797619048|HVerbal|        2|\n",
      "|    19|0.535714286|HVerbal|        3|\n",
      "|    20|0.416666667|HVerbal|        4|\n",
      "+------+-----------+-------+---------+\n",
      "only showing top 20 rows\n",
      "\n"
     ]
    }
   ],
   "source": [
    "df_pyspark.na.drop(how='any').show()"
   ]
  },
  {
   "cell_type": "code",
   "execution_count": 176,
   "id": "da109083",
   "metadata": {},
   "outputs": [
    {
     "name": "stdout",
     "output_type": "stream",
     "text": [
      "+------+-----------+------+---------+\n",
      "|21A_Pr|     21A_Es|21A_Ma|21A_Es_Di|\n",
      "+------+-----------+------+---------+\n",
      "|   129|       null| Light|        4|\n",
      "|  null|    0.34532| Water|        5|\n",
      "|   131|    0.99999|  null|        1|\n",
      "|   132|      0.865|  Dark|     null|\n",
      "|   133|       null|  Fire|     null|\n",
      "|     1|        0.5| HMate|        4|\n",
      "|     2|0.226190476| HMate|        5|\n",
      "|     3|0.273809524| HMate|        5|\n",
      "|     4|0.297619048| HMate|        5|\n",
      "|     5|0.678571429| HMate|        3|\n",
      "|     6| 0.69047619| HMate|        3|\n",
      "|     7|0.607142857| HMate|        3|\n",
      "|     8|0.285714286| HMate|        5|\n",
      "|     9| 0.44047619| HMate|        4|\n",
      "|    10|0.345238095| HMate|        4|\n",
      "|    11|0.178571429| HMate|        5|\n",
      "|    12|0.785714286| HMate|        2|\n",
      "|    13|0.404761905| HMate|        4|\n",
      "|    14|0.476190476| HMate|        4|\n",
      "|    15|0.333333333| HMate|        5|\n",
      "+------+-----------+------+---------+\n",
      "only showing top 20 rows\n",
      "\n"
     ]
    }
   ],
   "source": [
    "### thershold\n",
    "df_pyspark.na.drop(how='any', thresh=1).show()"
   ]
  },
  {
   "cell_type": "code",
   "execution_count": 177,
   "id": "e9300920",
   "metadata": {},
   "outputs": [
    {
     "name": "stdout",
     "output_type": "stream",
     "text": [
      "+------+-----------+-------+---------+\n",
      "|21A_Pr|     21A_Es| 21A_Ma|21A_Es_Di|\n",
      "+------+-----------+-------+---------+\n",
      "|   129|       null|  Light|        4|\n",
      "|  null|    0.34532|  Water|        5|\n",
      "|   131|    0.99999|   null|        1|\n",
      "|     1|        0.5|  HMate|        4|\n",
      "|     2|0.226190476|  HMate|        5|\n",
      "|     3|0.273809524|  HMate|        5|\n",
      "|     4|0.297619048|  HMate|        5|\n",
      "|     5|0.678571429|  HMate|        3|\n",
      "|     6| 0.69047619|  HMate|        3|\n",
      "|     7|0.607142857|  HMate|        3|\n",
      "|     8|0.285714286|  HMate|        5|\n",
      "|     9| 0.44047619|  HMate|        4|\n",
      "|    10|0.345238095|  HMate|        4|\n",
      "|    11|0.178571429|  HMate|        5|\n",
      "|    12|0.785714286|  HMate|        2|\n",
      "|    13|0.404761905|  HMate|        4|\n",
      "|    14|0.476190476|  HMate|        4|\n",
      "|    15|0.333333333|  HMate|        5|\n",
      "|    16|0.666666667|  HMate|        3|\n",
      "|    17|0.380952381|HVerbal|        4|\n",
      "+------+-----------+-------+---------+\n",
      "only showing top 20 rows\n",
      "\n"
     ]
    }
   ],
   "source": [
    "### thershold\n",
    "df_pyspark.na.drop(how='any',subset='21A_Es_Di').show()"
   ]
  },
  {
   "cell_type": "code",
   "execution_count": 186,
   "id": "8672b20a",
   "metadata": {},
   "outputs": [
    {
     "name": "stdout",
     "output_type": "stream",
     "text": [
      "+------+-----------+------+---------+\n",
      "|21A_Pr|     21A_Es|21A_Ma|21A_Es_Di|\n",
      "+------+-----------+------+---------+\n",
      "|   129|     1000.0| Light|        4|\n",
      "|  1000|    0.34532| Water|        5|\n",
      "|   131|    0.99999|  null|        1|\n",
      "|   132|      0.865|  Dark|     1000|\n",
      "|   133|     1000.0|  Fire|     1000|\n",
      "|     1|        0.5| HMate|        4|\n",
      "|     2|0.226190476| HMate|        5|\n",
      "|     3|0.273809524| HMate|        5|\n",
      "|     4|0.297619048| HMate|        5|\n",
      "|     5|0.678571429| HMate|        3|\n",
      "|     6| 0.69047619| HMate|        3|\n",
      "|     7|0.607142857| HMate|        3|\n",
      "|     8|0.285714286| HMate|        5|\n",
      "|     9| 0.44047619| HMate|        4|\n",
      "|    10|0.345238095| HMate|        4|\n",
      "|    11|0.178571429| HMate|        5|\n",
      "|    12|0.785714286| HMate|        2|\n",
      "|    13|0.404761905| HMate|        4|\n",
      "|    14|0.476190476| HMate|        4|\n",
      "|    15|0.333333333| HMate|        5|\n",
      "+------+-----------+------+---------+\n",
      "only showing top 20 rows\n",
      "\n",
      "+------+-----------+------+---------+\n",
      "|21A_Pr|     21A_Es|21A_Ma|21A_Es_Di|\n",
      "+------+-----------+------+---------+\n",
      "|   129|       null| Light|        4|\n",
      "|  null|    0.34532| Water|        5|\n",
      "|   131|    0.99999|   N/A|        1|\n",
      "|   132|      0.865|  Dark|     null|\n",
      "|   133|       null|  Fire|     null|\n",
      "|     1|        0.5| HMate|        4|\n",
      "|     2|0.226190476| HMate|        5|\n",
      "|     3|0.273809524| HMate|        5|\n",
      "|     4|0.297619048| HMate|        5|\n",
      "|     5|0.678571429| HMate|        3|\n",
      "|     6| 0.69047619| HMate|        3|\n",
      "|     7|0.607142857| HMate|        3|\n",
      "|     8|0.285714286| HMate|        5|\n",
      "|     9| 0.44047619| HMate|        4|\n",
      "|    10|0.345238095| HMate|        4|\n",
      "|    11|0.178571429| HMate|        5|\n",
      "|    12|0.785714286| HMate|        2|\n",
      "|    13|0.404761905| HMate|        4|\n",
      "|    14|0.476190476| HMate|        4|\n",
      "|    15|0.333333333| HMate|        5|\n",
      "+------+-----------+------+---------+\n",
      "only showing top 20 rows\n",
      "\n",
      "+------+-----------+------+---------+\n",
      "|21A_Pr|     21A_Es|21A_Ma|21A_Es_Di|\n",
      "+------+-----------+------+---------+\n",
      "|   129|       null| Light|        4|\n",
      "|  null|    0.34532| Water|        5|\n",
      "|   131|    0.99999|  null|        1|\n",
      "|   132|      0.865|  Dark|      999|\n",
      "|   133|       null|  Fire|      999|\n",
      "|     1|        0.5| HMate|        4|\n",
      "|     2|0.226190476| HMate|        5|\n",
      "|     3|0.273809524| HMate|        5|\n",
      "|     4|0.297619048| HMate|        5|\n",
      "|     5|0.678571429| HMate|        3|\n",
      "|     6| 0.69047619| HMate|        3|\n",
      "|     7|0.607142857| HMate|        3|\n",
      "|     8|0.285714286| HMate|        5|\n",
      "|     9| 0.44047619| HMate|        4|\n",
      "|    10|0.345238095| HMate|        4|\n",
      "|    11|0.178571429| HMate|        5|\n",
      "|    12|0.785714286| HMate|        2|\n",
      "|    13|0.404761905| HMate|        4|\n",
      "|    14|0.476190476| HMate|        4|\n",
      "|    15|0.333333333| HMate|        5|\n",
      "+------+-----------+------+---------+\n",
      "only showing top 20 rows\n",
      "\n"
     ]
    }
   ],
   "source": [
    "df_pyspark.na.fill(1000).show() ## Columnas con tipo de dato numerico (doble o enterlo)\n",
    "df_pyspark.na.fill(\"N/A\").show()  ## Coluimnas con tipo de dato string\n",
    "df_pyspark.na.fill(999,subset=\"21A_Es_Di\").show()  ## Columna especifica"
   ]
  },
  {
   "cell_type": "code",
   "execution_count": 190,
   "id": "4066ab0f",
   "metadata": {},
   "outputs": [],
   "source": [
    "from pyspark.ml.feature import Imputer\n",
    "\n",
    "imputer = Imputer( \n",
    "    inputCols=['21A_Pr','21A_Es_Di'],\n",
    "    outputCols=[\"{}_imputed\".format(c) for c in ['21A_Pr','21A_Es_Di'] ]\n",
    ").setStrategy(\"mean\")\n",
    "\n",
    "## Inversigar Imputer"
   ]
  },
  {
   "cell_type": "code",
   "execution_count": 192,
   "id": "3510be73",
   "metadata": {},
   "outputs": [
    {
     "name": "stdout",
     "output_type": "stream",
     "text": [
      "+------+-----------+------+---------+--------------+-----------------+\n",
      "|21A_Pr|     21A_Es|21A_Ma|21A_Es_Di|21A_Pr_imputed|21A_Es_Di_imputed|\n",
      "+------+-----------+------+---------+--------------+-----------------+\n",
      "|   129|       null| Light|        4|           129|                4|\n",
      "|  null|    0.34532| Water|        5|            66|                5|\n",
      "|   131|    0.99999|  null|        1|           131|                1|\n",
      "|   132|      0.865|  Dark|     null|           132|                3|\n",
      "|   133|       null|  Fire|     null|           133|                3|\n",
      "|     1|        0.5| HMate|        4|             1|                4|\n",
      "|     2|0.226190476| HMate|        5|             2|                5|\n",
      "|     3|0.273809524| HMate|        5|             3|                5|\n",
      "|     4|0.297619048| HMate|        5|             4|                5|\n",
      "|     5|0.678571429| HMate|        3|             5|                3|\n",
      "|     6| 0.69047619| HMate|        3|             6|                3|\n",
      "|     7|0.607142857| HMate|        3|             7|                3|\n",
      "|     8|0.285714286| HMate|        5|             8|                5|\n",
      "|     9| 0.44047619| HMate|        4|             9|                4|\n",
      "|    10|0.345238095| HMate|        4|            10|                4|\n",
      "|    11|0.178571429| HMate|        5|            11|                5|\n",
      "|    12|0.785714286| HMate|        2|            12|                2|\n",
      "|    13|0.404761905| HMate|        4|            13|                4|\n",
      "|    14|0.476190476| HMate|        4|            14|                4|\n",
      "|    15|0.333333333| HMate|        5|            15|                5|\n",
      "+------+-----------+------+---------+--------------+-----------------+\n",
      "only showing top 20 rows\n",
      "\n"
     ]
    }
   ],
   "source": [
    "## Se añaden las columnas imputadas al dataFrame\n",
    "imputer.fit(df_pyspark).transform(df_pyspark).show()"
   ]
  }
 ],
 "metadata": {
  "kernelspec": {
   "display_name": "Python 3 (ipykernel)",
   "language": "python",
   "name": "python3"
  },
  "language_info": {
   "codemirror_mode": {
    "name": "ipython",
    "version": 3
   },
   "file_extension": ".py",
   "mimetype": "text/x-python",
   "name": "python",
   "nbconvert_exporter": "python",
   "pygments_lexer": "ipython3",
   "version": "3.9.7"
  }
 },
 "nbformat": 4,
 "nbformat_minor": 5
}
